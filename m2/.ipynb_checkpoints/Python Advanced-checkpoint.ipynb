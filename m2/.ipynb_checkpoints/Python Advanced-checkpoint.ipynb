{
 "cells": [
  {
   "cell_type": "markdown",
   "id": "8c72650c",
   "metadata": {},
   "source": [
    "#### Relative path file access with write"
   ]
  },
  {
   "cell_type": "code",
   "execution_count": 10,
   "id": "e911b323",
   "metadata": {},
   "outputs": [],
   "source": [
    "file1=open('1/a/MyFile5.txt','w')\n",
    "file1.write(\"New file content written to file\")\n",
    "file1.close()"
   ]
  },
  {
   "cell_type": "markdown",
   "id": "d7fec38c",
   "metadata": {},
   "source": [
    "#### Absolute path access with read"
   ]
  },
  {
   "cell_type": "code",
   "execution_count": 3,
   "id": "839079ba",
   "metadata": {},
   "outputs": [
    {
     "name": "stdout",
     "output_type": "stream",
     "text": [
      "Hello Python\n"
     ]
    }
   ],
   "source": [
    "file2=open(r'D:/MyFile4.txt','w')\n",
    "file2.write(\"Hello Python\")\n",
    "file2.close()\n",
    "\n",
    "file2=open(r'D:/MyFile4.txt','r')\n",
    "str1=file2.read()\n",
    "print(str1)\n",
    "file2.close()"
   ]
  },
  {
   "cell_type": "code",
   "execution_count": 7,
   "id": "77b98634",
   "metadata": {},
   "outputs": [],
   "source": [
    "file3=open(r'C:/Users/Keonics/Documents/abc.txt','r')"
   ]
  },
  {
   "cell_type": "markdown",
   "id": "25983448",
   "metadata": {},
   "source": [
    "#### Creating and writing content in file MyFile123.txt"
   ]
  },
  {
   "cell_type": "code",
   "execution_count": 4,
   "id": "3a83edfa",
   "metadata": {},
   "outputs": [],
   "source": [
    "\n",
    "file4=open('Myfile123.txt','w')\n",
    "file4.write(\"Python 3.11\")\n",
    "file4.close()"
   ]
  },
  {
   "cell_type": "markdown",
   "id": "0034202e",
   "metadata": {},
   "source": [
    "#### Read the content of file From MyFile123.txt"
   ]
  },
  {
   "cell_type": "code",
   "execution_count": 9,
   "id": "c1703c90",
   "metadata": {},
   "outputs": [
    {
     "name": "stdout",
     "output_type": "stream",
     "text": [
      "Python 3.12\n",
      "C programming\n"
     ]
    }
   ],
   "source": [
    "file4=open('MyFile123.txt','r')\n",
    "\n",
    "string_from_file= file4.read()\n",
    "print(string_from_file)\n",
    "\n",
    "file4.close()"
   ]
  },
  {
   "cell_type": "code",
   "execution_count": 11,
   "id": "b4b42ee5",
   "metadata": {},
   "outputs": [
    {
     "name": "stdout",
     "output_type": "stream",
     "text": [
      "Python\n"
     ]
    }
   ],
   "source": [
    "file4=open('MyFile123.txt','r')\n",
    "\n",
    "string_from_file= file4.readline(6)\n",
    "print(string_from_file)\n",
    "\n",
    "file4.close()"
   ]
  },
  {
   "cell_type": "code",
   "execution_count": 15,
   "id": "252d103f",
   "metadata": {},
   "outputs": [
    {
     "name": "stdout",
     "output_type": "stream",
     "text": [
      "Python 3.12\n",
      "\n",
      "C programming\n"
     ]
    }
   ],
   "source": [
    "file4=open('MyFile123.txt','r')\n",
    "\n",
    "paragraph= file4.readlines()\n",
    "for line in paragraph:\n",
    "    print(line)\n",
    "file4.close()"
   ]
  },
  {
   "cell_type": "markdown",
   "id": "d2044088",
   "metadata": {},
   "source": [
    "### Task: Add 4 lines in a file and create a mechanism to get keyword search functionality using in operator."
   ]
  },
  {
   "cell_type": "code",
   "execution_count": 22,
   "id": "afdc972b",
   "metadata": {},
   "outputs": [
    {
     "name": "stdout",
     "output_type": "stream",
     "text": [
      "['Python\\n', 'C Programming\\n', 'java\\n', 'HTML']\n"
     ]
    }
   ],
   "source": [
    "file1=open('MyFile12345.txt','w+')\n",
    "file1.write(\"Python\\nC Programming\\njava\\nHTML\")\n",
    "string=file1.readlines()\n",
    "print(string)"
   ]
  },
  {
   "cell_type": "code",
   "execution_count": 31,
   "id": "80dca049",
   "metadata": {},
   "outputs": [
    {
     "name": "stdout",
     "output_type": "stream",
     "text": [
      "Enter a key to search:java\n",
      "Status:' java ' Found\n"
     ]
    }
   ],
   "source": [
    "\n",
    "keyword=input(\"Enter a key to search:\")\n",
    "for line in string:\n",
    "    flag=0\n",
    "    if keyword in line:\n",
    "        print(\"Status:'\",keyword,\"' Found\")\n",
    "        break\n",
    "    else:\n",
    "        flag=1\n",
    "if flag==1:\n",
    "    print(\"Status:'\",keyword,\"' Not Found\")\n",
    "file1.close()"
   ]
  },
  {
   "cell_type": "code",
   "execution_count": 42,
   "id": "3e9208a3",
   "metadata": {},
   "outputs": [
    {
     "name": "stdout",
     "output_type": "stream",
     "text": [
      "Python\n",
      "C Programming\n",
      "java\n",
      "HTML\n",
      "___________After seek 4______________\n",
      "on\n",
      "C Programming\n",
      "java\n",
      "HTML\n"
     ]
    }
   ],
   "source": [
    "file1=open('MyFile12345.txt','r')\n",
    "print(file1.read())\n",
    "file1.seek(4)\n",
    "print(\"___________After seek 4______________\")\n",
    "print(file1.read())\n",
    "file1.close()"
   ]
  },
  {
   "cell_type": "markdown",
   "id": "96d75c72",
   "metadata": {},
   "source": [
    "\n",
    "### Output Formatting"
   ]
  },
  {
   "cell_type": "code",
   "execution_count": 47,
   "id": "30b77fe2",
   "metadata": {},
   "outputs": [
    {
     "name": "stdout",
     "output_type": "stream",
     "text": [
      " Rs. 100 , pi value 3000.142\n"
     ]
    }
   ],
   "source": [
    "print(\" Rs. %d , pi value %1.3f\"%(100,3000.142))"
   ]
  },
  {
   "cell_type": "code",
   "execution_count": 52,
   "id": "3f792131",
   "metadata": {},
   "outputs": [
    {
     "name": "stdout",
     "output_type": "stream",
     "text": [
      "     10\n"
     ]
    }
   ],
   "source": [
    "print(\"%7.2o\"%(8))"
   ]
  },
  {
   "cell_type": "code",
   "execution_count": 62,
   "id": "97a17d04",
   "metadata": {},
   "outputs": [
    {
     "name": "stdout",
     "output_type": "stream",
     "text": [
      "  2E+03\n"
     ]
    }
   ],
   "source": [
    "print(\"%7.0E\"%(2000))"
   ]
  },
  {
   "cell_type": "code",
   "execution_count": 1,
   "id": "a4629db6",
   "metadata": {},
   "outputs": [],
   "source": [
    "with open(\"MyFile12345.txt\") as file1:\n",
    "    data=file1.read()"
   ]
  },
  {
   "cell_type": "code",
   "execution_count": 2,
   "id": "f27d92f9",
   "metadata": {
    "collapsed": true
   },
   "outputs": [
    {
     "name": "stdout",
     "output_type": "stream",
     "text": [
      "Python\n",
      "C Programming\n",
      "java\n",
      "HTML\n"
     ]
    }
   ],
   "source": [
    "print(data)"
   ]
  },
  {
   "cell_type": "code",
   "execution_count": 3,
   "id": "e30588eb",
   "metadata": {
    "collapsed": true
   },
   "outputs": [
    {
     "ename": "ValueError",
     "evalue": "I/O operation on closed file.",
     "output_type": "error",
     "traceback": [
      "\u001b[1;31m---------------------------------------------------------------------------\u001b[0m",
      "\u001b[1;31mValueError\u001b[0m                                Traceback (most recent call last)",
      "Cell \u001b[1;32mIn[3], line 1\u001b[0m\n\u001b[1;32m----> 1\u001b[0m \u001b[38;5;28mprint\u001b[39m(\u001b[43mfile1\u001b[49m\u001b[38;5;241;43m.\u001b[39;49m\u001b[43mread\u001b[49m\u001b[43m(\u001b[49m\u001b[43m)\u001b[49m)\n",
      "\u001b[1;31mValueError\u001b[0m: I/O operation on closed file."
     ]
    }
   ],
   "source": [
    "print(file1.read())"
   ]
  },
  {
   "cell_type": "code",
   "execution_count": 25,
   "id": "020d9d3b",
   "metadata": {},
   "outputs": [
    {
     "name": "stdout",
     "output_type": "stream",
     "text": [
      "Second element=2\n",
      "Error Occurred at index 3\n"
     ]
    }
   ],
   "source": [
    "a=[1,2,3]\n",
    "try:\n",
    "    print(\"Second element=%d\"%(a[1]))\n",
    "    \n",
    "    #unsafe code\n",
    "    print(\"Fourth Element =%d\"%(a[3]))\n",
    "except IndexError:\n",
    "    print(\"Error Occurred at index 3\")\n",
    "except ValueError:\n",
    "    print(\"Value Error Occurred \")\n",
    "except TypeError:\n",
    "    print(\"TypeError Occurred\")"
   ]
  },
  {
   "cell_type": "code",
   "execution_count": 24,
   "id": "7fff2629",
   "metadata": {},
   "outputs": [
    {
     "name": "stdout",
     "output_type": "stream",
     "text": [
      "3\n",
      "Exception Occurred: NameError\n"
     ]
    }
   ],
   "source": [
    "a=10\n",
    "b=[1,2,3]\n",
    "try:\n",
    "    div=10/1 # First unsafe line of code\n",
    "    \n",
    "    print(\"%d\"%(b[2]))  # IndexError                                \n",
    "    a=c   # c not declared so, NameError\n",
    "\n",
    "except NameError:\n",
    "    print(\"Exception Occurred: NameError\")\n",
    "except IndexError:\n",
    "    print(\"Exception Occurred: IndexError\")\n",
    "except ZeroDivisionError:\n",
    "    print(\"Exception occurred: ZeroDivisionError\")\n",
    "except:\n",
    "    print(\"Exception occurred: Generic\")"
   ]
  },
  {
   "cell_type": "code",
   "execution_count": 38,
   "id": "cfd4847e",
   "metadata": {},
   "outputs": [
    {
     "name": "stdout",
     "output_type": "stream",
     "text": [
      "Hello\n",
      "5\n",
      "2\n",
      "exception did not occurred\n",
      "Finally block executed\n"
     ]
    }
   ],
   "source": [
    "try:\n",
    "    \n",
    "    fd=open(\"MyFile12345.txt\",'r')\n",
    "    print(fd.read())\n",
    "    \n",
    "    fd=open(\"MyFile12345.txt\",'w')\n",
    "    print(fd.write(\"Hello\"))\n",
    "    \n",
    "except ZeroDivisionError:\n",
    "    print(\"ZeroDivisionError occurred\")\n",
    "except:\n",
    "    \n",
    "    print(\"UnsupportedOperation occurred\")\n",
    "else:\n",
    "    print(\"exception did not occurred\")\n",
    "finally:\n",
    "    fd.close()\n",
    "    print(\"Finally block executed\")"
   ]
  },
  {
   "cell_type": "code",
   "execution_count": 42,
   "id": "da88f332",
   "metadata": {},
   "outputs": [
    {
     "name": "stdout",
     "output_type": "stream",
     "text": [
      "exception occurred\n"
     ]
    },
    {
     "ename": "NameError",
     "evalue": "Name Error raised from developer",
     "output_type": "error",
     "traceback": [
      "\u001b[1;31m---------------------------------------------------------------------------\u001b[0m",
      "\u001b[1;31mNameError\u001b[0m                                 Traceback (most recent call last)",
      "Cell \u001b[1;32mIn[42], line 2\u001b[0m\n\u001b[0;32m      1\u001b[0m \u001b[38;5;28;01mtry\u001b[39;00m:\n\u001b[1;32m----> 2\u001b[0m     \u001b[38;5;28;01mraise\u001b[39;00m \u001b[38;5;167;01mNameError\u001b[39;00m(\u001b[38;5;124m\"\u001b[39m\u001b[38;5;124mName Error raised from developer\u001b[39m\u001b[38;5;124m\"\u001b[39m)\n\u001b[0;32m      3\u001b[0m \u001b[38;5;28;01mexcept\u001b[39;00m \u001b[38;5;167;01mNameError\u001b[39;00m:\n\u001b[0;32m      4\u001b[0m     \u001b[38;5;28mprint\u001b[39m(\u001b[38;5;124m'\u001b[39m\u001b[38;5;124mexception occurred\u001b[39m\u001b[38;5;124m'\u001b[39m)\n",
      "\u001b[1;31mNameError\u001b[0m: Name Error raised from developer"
     ]
    }
   ],
   "source": [
    "try:\n",
    "    raise NameError(\"Name Error raised from developer\")\n",
    "except NameError:\n",
    "    print('exception occurred')\n",
    "    raise"
   ]
  },
  {
   "cell_type": "code",
   "execution_count": 47,
   "id": "3382467e",
   "metadata": {},
   "outputs": [
    {
     "name": "stdout",
     "output_type": "stream",
     "text": [
      "AN exception occured: NameError\n"
     ]
    },
    {
     "ename": "NameError",
     "evalue": "Name Error raised from developer",
     "output_type": "error",
     "traceback": [
      "\u001b[1;31m---------------------------------------------------------------------------\u001b[0m",
      "\u001b[1;31mNameError\u001b[0m                                 Traceback (most recent call last)",
      "Cell \u001b[1;32mIn[47], line 2\u001b[0m\n\u001b[0;32m      1\u001b[0m \u001b[38;5;28;01mtry\u001b[39;00m:\n\u001b[1;32m----> 2\u001b[0m     \u001b[38;5;28;01mraise\u001b[39;00m \u001b[38;5;167;01mNameError\u001b[39;00m (\u001b[38;5;124m\"\u001b[39m\u001b[38;5;124mName Error raised from developer\u001b[39m\u001b[38;5;124m\"\u001b[39m) \n\u001b[0;32m      3\u001b[0m \u001b[38;5;28;01mexcept\u001b[39;00m \u001b[38;5;167;01mNameError\u001b[39;00m:     \n\u001b[0;32m      4\u001b[0m     \u001b[38;5;28mprint\u001b[39m(\u001b[38;5;124m\"\u001b[39m\u001b[38;5;124mAN exception occured: NameError\u001b[39m\u001b[38;5;124m\"\u001b[39m) \n",
      "\u001b[1;31mNameError\u001b[0m: Name Error raised from developer"
     ]
    }
   ],
   "source": [
    "try:\n",
    "    raise NameError (\"Name Error raised from developer\") \n",
    "except NameError:     \n",
    "    print(\"AN exception occured: NameError\") \n",
    "    raise\n",
    "#     raise SyntaxError(\"You have an error!\")"
   ]
  },
  {
   "cell_type": "code",
   "execution_count": 10,
   "id": "7d8e7f39",
   "metadata": {},
   "outputs": [
    {
     "name": "stdout",
     "output_type": "stream",
     "text": [
      " name     rollnumber     class     division\n",
      " ABC     1     10     A\n",
      " ABCD      2           10         B\n"
     ]
    }
   ],
   "source": [
    "with open(\"NewFileNov23.txt\", 'a') as file2:     \n",
    "    data = file2.write(\"\\n ABCD      2           10         B\") \n",
    "    \n",
    "    \n",
    "with open(\"NewFileNov23.txt\", 'r') as file2:     \n",
    "#     data = file2.write(\"Creating and writing to a new text document using with statement.\")     \n",
    "    print(file2.read())"
   ]
  },
  {
   "cell_type": "code",
   "execution_count": 15,
   "id": "a829b0b5",
   "metadata": {},
   "outputs": [
    {
     "name": "stdout",
     "output_type": "stream",
     "text": [
      "Enter student's name, roll number, class, division: D,13,12,A\n",
      "\n",
      "List of Student Names:\n",
      "\n",
      "Name: A \n",
      "Roll Number: 10\n",
      "\n",
      "Name: B \n",
      "Roll Number: 11\n",
      "\n",
      "Name: b \n",
      "Roll Number: 10\n",
      "\n",
      "Name: C \n",
      "Roll Number: 12\n",
      "\n",
      "Name: D \n",
      "Roll Number: 13\n"
     ]
    }
   ],
   "source": [
    "# Store student information in a file \n",
    "with open('student_info.txt', 'a') as file:     \n",
    "    file.write(input(\"Enter student's name, roll number, class, division: \") + '\\n')  \n",
    "    # Display only the names of the students \n",
    "    \n",
    "with open('student_info.txt', 'r') as file:     \n",
    "    print(\"\\nList of Student Names:\")     \n",
    "    for line in file:         \n",
    "        print(\"\\nName:\",line.split(',')[0],\"\\nRoll Number:\",line.split(',')[1])"
   ]
  },
  {
   "cell_type": "code",
   "execution_count": 18,
   "id": "484b0fa8",
   "metadata": {},
   "outputs": [
    {
     "name": "stdout",
     "output_type": "stream",
     "text": [
      "Dhanush \n",
      "Dhanush \n",
      "Dhanush \n"
     ]
    }
   ],
   "source": [
    "def write_student_info(file_path, student_info):     \n",
    "    with open(file_path, 'a') as file:         \n",
    "        file.write(student_info + '\\n')  \n",
    "        \n",
    "def display_names(file_path):     \n",
    "    with open(file_path, 'r') as file:         \n",
    "        print(*(line.split(',')[0] for line in file), sep='\\n')  \n",
    "\n",
    "file_path = 'student_data.txt' \n",
    "write_student_info(file_path, 'Dhanush ,123 , 10,A') \n",
    "display_names(file_path)"
   ]
  },
  {
   "cell_type": "code",
   "execution_count": null,
   "id": "f6faaa78",
   "metadata": {},
   "outputs": [],
   "source": [
    "\n",
    "file5 = open('MyFilesi.txt','r') \n",
    "info = file5.readlines() \n",
    "for line in info:     \n",
    "    print(line)      \n",
    "    file5.close()"
   ]
  },
  {
   "cell_type": "code",
   "execution_count": 21,
   "id": "eb0c159d",
   "metadata": {},
   "outputs": [
    {
     "name": "stdout",
     "output_type": "stream",
     "text": [
      "Enter the name of the student: ABCDE\n",
      "Enter the roll number of the student: 13\n",
      "Enter the class of the student: 12\n",
      "Enter the division of the student: C\n",
      "ABCD\n",
      "XYZ\n",
      "ABCDE\n"
     ]
    }
   ],
   "source": [
    "file = open(\"student1.txt\", \"a\")  \n",
    "\n",
    "name = input(\"Enter the name of the student: \") \n",
    "rollno = input(\"Enter the roll number of the student: \") \n",
    "Class = input(\"Enter the class of the student: \") \n",
    "div = input(\"Enter the division of the student: \")    \n",
    "file.write(name + \",\" + rollno + \",\" + Class + \",\" + div + \"\\n\")   \n",
    "file.close()  \n",
    "\n",
    "file = open(\"student1.txt\", \"r\")   \n",
    "for line in file:          \n",
    "    data = line.split(\",\")           \n",
    "    print(data[0])  \n",
    "file.close()"
   ]
  },
  {
   "cell_type": "code",
   "execution_count": 22,
   "id": "24c6a4dc",
   "metadata": {},
   "outputs": [
    {
     "name": "stdout",
     "output_type": "stream",
     "text": [
      "Johny Doe 12\n"
     ]
    }
   ],
   "source": [
    "# Writing data to the file \n",
    "with open('student_data12.txt', 'a') as file:     \n",
    "    file.write(\"Johny Doe,12,10,A\\n\") # Reading and displaying only names \n",
    "with open('student_data12.txt', 'r') as file:     \n",
    "    for line in file:         \n",
    "        data = line.split(',')         \n",
    "        print(data[0],data[1])"
   ]
  },
  {
   "cell_type": "code",
   "execution_count": 23,
   "id": "101ebc0c",
   "metadata": {},
   "outputs": [
    {
     "name": "stdout",
     "output_type": "stream",
     "text": [
      "Name: Zaka \n",
      "Name: Dhanush \n"
     ]
    }
   ],
   "source": [
    "# create a list of file with students data:   \n",
    "with open('Class_list.txt', 'w') as file:     \n",
    "    file.write(\"Name: Zaka ,Rollno.: 123, Class: 10, Div: A\\n\")     \n",
    "    file.write(\"Name: Dhanush ,Rollno.: 456, Class: 11, Div: B\\n\")     \n",
    "    file.close()  # display name throught the file: \n",
    "with open('Class_list.txt', 'r') as file:     \n",
    "    for line in file:         \n",
    "        print(line.split(',')[0])"
   ]
  },
  {
   "cell_type": "code",
   "execution_count": 28,
   "id": "9997a58e",
   "metadata": {},
   "outputs": [
    {
     "name": "stdout",
     "output_type": "stream",
     "text": [
      "Name : Amrit\n",
      "class : 12\n",
      "roll_no : 123\n",
      "div : B\n",
      "\n"
     ]
    }
   ],
   "source": [
    "with open('MyFilesi.txt','w') as file9:     \n",
    "    file9.write(\"Name : Amrit\\n\")     \n",
    "    file9.write(\"class : 12,\\n\")     \n",
    "    file9.write(\"roll_no : 123,\\n\")     \n",
    "    file9.write(\"div : B\\n\")  \n",
    "with open('MyFilesi.txt','r') as file9:     \n",
    "    for line in file9:         \n",
    "        print(line.split(',')[0])"
   ]
  },
  {
   "cell_type": "code",
   "execution_count": null,
   "id": "16db47b0",
   "metadata": {},
   "outputs": [],
   "source": []
  }
 ],
 "metadata": {
  "kernelspec": {
   "display_name": "Python 3 (ipykernel)",
   "language": "python",
   "name": "python3"
  },
  "language_info": {
   "codemirror_mode": {
    "name": "ipython",
    "version": 3
   },
   "file_extension": ".py",
   "mimetype": "text/x-python",
   "name": "python",
   "nbconvert_exporter": "python",
   "pygments_lexer": "ipython3",
   "version": "3.11.3"
  }
 },
 "nbformat": 4,
 "nbformat_minor": 5
}
