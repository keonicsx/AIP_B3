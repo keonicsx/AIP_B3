{
 "cells": [
  {
   "cell_type": "markdown",
   "id": "8c72650c",
   "metadata": {},
   "source": [
    "#### Relative path file access with write"
   ]
  },
  {
   "cell_type": "code",
   "execution_count": 1,
   "id": "e911b323",
   "metadata": {},
   "outputs": [],
   "source": [
    "file1=open('1/a/MyFile5.txt','w')\n",
    "file1.write(\"New file content written to file\")\n",
    "file1.close()"
   ]
  },
  {
   "cell_type": "markdown",
   "id": "d7fec38c",
   "metadata": {},
   "source": [
    "#### Absolute path access with read"
   ]
  },
  {
   "cell_type": "code",
   "execution_count": 2,
   "id": "839079ba",
   "metadata": {},
   "outputs": [
    {
     "name": "stdout",
     "output_type": "stream",
     "text": [
      "Hello Python\n"
     ]
    }
   ],
   "source": [
    "file2=open(r'D:/MyFile4.txt','w')\n",
    "file2.write(\"Hello Python\")\n",
    "file2.close()\n",
    "\n",
    "file2=open(r'D:/MyFile4.txt','r')\n",
    "str1=file2.read()\n",
    "print(str1)\n",
    "file2.close()"
   ]
  },
  {
   "cell_type": "code",
   "execution_count": 3,
   "id": "77b98634",
   "metadata": {},
   "outputs": [],
   "source": [
    "file3=open(r'C:/Users/Keonics/Documents/abc.txt','r')"
   ]
  },
  {
   "cell_type": "markdown",
   "id": "25983448",
   "metadata": {},
   "source": [
    "#### Creating and writing content in file MyFile123.txt"
   ]
  },
  {
   "cell_type": "code",
   "execution_count": 4,
   "id": "3a83edfa",
   "metadata": {},
   "outputs": [],
   "source": [
    "\n",
    "file4=open('Myfile123.txt','w')\n",
    "file4.write(\"Python 3.11\")\n",
    "file4.close()"
   ]
  },
  {
   "cell_type": "markdown",
   "id": "0034202e",
   "metadata": {},
   "source": [
    "#### Read the content of file From MyFile123.txt"
   ]
  },
  {
   "cell_type": "code",
   "execution_count": 5,
   "id": "c1703c90",
   "metadata": {},
   "outputs": [
    {
     "name": "stdout",
     "output_type": "stream",
     "text": [
      "Python 3.11\n"
     ]
    }
   ],
   "source": [
    "file4=open('MyFile123.txt','r')\n",
    "\n",
    "string_from_file= file4.read()\n",
    "print(string_from_file)\n",
    "\n",
    "file4.close()"
   ]
  },
  {
   "cell_type": "code",
   "execution_count": 6,
   "id": "b4b42ee5",
   "metadata": {},
   "outputs": [
    {
     "name": "stdout",
     "output_type": "stream",
     "text": [
      "Python\n"
     ]
    }
   ],
   "source": [
    "file4=open('MyFile123.txt','r')\n",
    "\n",
    "string_from_file= file4.readline(6)\n",
    "print(string_from_file)\n",
    "\n",
    "file4.close()"
   ]
  },
  {
   "cell_type": "code",
   "execution_count": 7,
   "id": "252d103f",
   "metadata": {},
   "outputs": [
    {
     "name": "stdout",
     "output_type": "stream",
     "text": [
      "Python 3.11\n"
     ]
    }
   ],
   "source": [
    "file4=open('MyFile123.txt','r')\n",
    "\n",
    "paragraph= file4.readlines()\n",
    "for line in paragraph:\n",
    "    print(line)\n",
    "file4.close()"
   ]
  },
  {
   "cell_type": "markdown",
   "id": "d2044088",
   "metadata": {},
   "source": [
    "### Task: Add 4 lines in a file and create a mechanism to get keyword search functionality using in operator."
   ]
  },
  {
   "cell_type": "code",
   "execution_count": 8,
   "id": "afdc972b",
   "metadata": {},
   "outputs": [
    {
     "name": "stdout",
     "output_type": "stream",
     "text": [
      "[]\n"
     ]
    }
   ],
   "source": [
    "file1=open('MyFile12345.txt','w+')\n",
    "file1.write(\"Python\\nC Programming\\njava\\nHTML\")\n",
    "string=file1.readlines()\n",
    "print(string)"
   ]
  },
  {
   "cell_type": "code",
   "execution_count": 9,
   "id": "80dca049",
   "metadata": {},
   "outputs": [
    {
     "name": "stdout",
     "output_type": "stream",
     "text": [
      "Enter a key to search:k\n"
     ]
    },
    {
     "ename": "NameError",
     "evalue": "name 'flag' is not defined",
     "output_type": "error",
     "traceback": [
      "\u001b[1;31m---------------------------------------------------------------------------\u001b[0m",
      "\u001b[1;31mNameError\u001b[0m                                 Traceback (most recent call last)",
      "Cell \u001b[1;32mIn[9], line 9\u001b[0m\n\u001b[0;32m      7\u001b[0m     \u001b[38;5;28;01melse\u001b[39;00m:\n\u001b[0;32m      8\u001b[0m         flag\u001b[38;5;241m=\u001b[39m\u001b[38;5;241m1\u001b[39m\n\u001b[1;32m----> 9\u001b[0m \u001b[38;5;28;01mif\u001b[39;00m \u001b[43mflag\u001b[49m\u001b[38;5;241m==\u001b[39m\u001b[38;5;241m1\u001b[39m:\n\u001b[0;32m     10\u001b[0m     \u001b[38;5;28mprint\u001b[39m(\u001b[38;5;124m\"\u001b[39m\u001b[38;5;124mStatus:\u001b[39m\u001b[38;5;124m'\u001b[39m\u001b[38;5;124m\"\u001b[39m,keyword,\u001b[38;5;124m\"\u001b[39m\u001b[38;5;124m'\u001b[39m\u001b[38;5;124m Not Found\u001b[39m\u001b[38;5;124m\"\u001b[39m)\n\u001b[0;32m     11\u001b[0m file1\u001b[38;5;241m.\u001b[39mclose()\n",
      "\u001b[1;31mNameError\u001b[0m: name 'flag' is not defined"
     ]
    }
   ],
   "source": [
    "\n",
    "keyword=input(\"Enter a key to search:\")\n",
    "for line in string:\n",
    "    flag=0\n",
    "    if keyword in line:\n",
    "        print(\"Status:'\",keyword,\"' Found\")\n",
    "        break\n",
    "    else:\n",
    "        flag=1\n",
    "if flag==1:\n",
    "    print(\"Status:'\",keyword,\"' Not Found\")\n",
    "file1.close()"
   ]
  },
  {
   "cell_type": "code",
   "execution_count": null,
   "id": "3e9208a3",
   "metadata": {},
   "outputs": [],
   "source": [
    "file1=open('MyFile12345.txt','r')\n",
    "print(file1.read())\n",
    "file1.seek(4)\n",
    "print(\"___________After seek 4______________\")\n",
    "print(file1.read())\n",
    "file1.close()"
   ]
  },
  {
   "cell_type": "markdown",
   "id": "96d75c72",
   "metadata": {},
   "source": [
    "\n",
    "### Output Formatting"
   ]
  },
  {
   "cell_type": "code",
   "execution_count": null,
   "id": "30b77fe2",
   "metadata": {},
   "outputs": [],
   "source": [
    "print(\" Rs. %d , pi value %1.3f\"%(100,3000.142))"
   ]
  },
  {
   "cell_type": "code",
   "execution_count": null,
   "id": "3f792131",
   "metadata": {},
   "outputs": [],
   "source": [
    "print(\"%7.2o\"%(8))"
   ]
  },
  {
   "cell_type": "code",
   "execution_count": null,
   "id": "97a17d04",
   "metadata": {},
   "outputs": [],
   "source": [
    "print(\"%7.0E\"%(2000))"
   ]
  },
  {
   "cell_type": "code",
   "execution_count": null,
   "id": "a4629db6",
   "metadata": {},
   "outputs": [],
   "source": [
    "with open(\"MyFile12345.txt\") as file1:\n",
    "    data=file1.read()"
   ]
  },
  {
   "cell_type": "code",
   "execution_count": null,
   "id": "f27d92f9",
   "metadata": {},
   "outputs": [],
   "source": [
    "print(data)"
   ]
  },
  {
   "cell_type": "code",
   "execution_count": null,
   "id": "e30588eb",
   "metadata": {},
   "outputs": [],
   "source": [
    "print(file1.read())"
   ]
  },
  {
   "cell_type": "code",
   "execution_count": null,
   "id": "020d9d3b",
   "metadata": {},
   "outputs": [],
   "source": [
    "a=[1,2,3]\n",
    "try:\n",
    "    print(\"Second element=%d\"%(a[1]))\n",
    "    \n",
    "    #unsafe code\n",
    "    print(\"Fourth Element =%d\"%(a[3]))\n",
    "except IndexError:\n",
    "    print(\"Error Occurred at index 3\")\n",
    "except ValueError:\n",
    "    print(\"Value Error Occurred \")\n",
    "except TypeError:\n",
    "    print(\"TypeError Occurred\")"
   ]
  },
  {
   "cell_type": "code",
   "execution_count": null,
   "id": "7fff2629",
   "metadata": {},
   "outputs": [],
   "source": [
    "a=10\n",
    "b=[1,2,3]\n",
    "try:\n",
    "    div=10/1 # First unsafe line of code\n",
    "    \n",
    "    print(\"%d\"%(b[2]))  # IndexError                                \n",
    "    a=c   # c not declared so, NameError\n",
    "\n",
    "except NameError:\n",
    "    print(\"Exception Occurred: NameError\")\n",
    "except IndexError:\n",
    "    print(\"Exception Occurred: IndexError\")\n",
    "except ZeroDivisionError:\n",
    "    print(\"Exception occurred: ZeroDivisionError\")\n",
    "except:\n",
    "    print(\"Exception occurred: Generic\")"
   ]
  },
  {
   "cell_type": "code",
   "execution_count": null,
   "id": "cfd4847e",
   "metadata": {},
   "outputs": [],
   "source": [
    "try:\n",
    "    \n",
    "    fd=open(\"MyFile12345.txt\",'r')\n",
    "    print(fd.read())\n",
    "    \n",
    "    fd=open(\"MyFile12345.txt\",'w')\n",
    "    print(fd.write(\"Hello\"))\n",
    "    \n",
    "except ZeroDivisionError:\n",
    "    print(\"ZeroDivisionError occurred\")\n",
    "except:\n",
    "    \n",
    "    print(\"UnsupportedOperation occurred\")\n",
    "else:\n",
    "    print(\"exception did not occurred\")\n",
    "finally:\n",
    "    fd.close()\n",
    "    print(\"Finally block executed\")"
   ]
  },
  {
   "cell_type": "code",
   "execution_count": null,
   "id": "da88f332",
   "metadata": {},
   "outputs": [],
   "source": [
    "try:\n",
    "    raise NameError(\"Name Error raised from developer\")\n",
    "except NameError:\n",
    "    print('exception occurred')\n",
    "    raise"
   ]
  },
  {
   "cell_type": "code",
   "execution_count": null,
   "id": "3382467e",
   "metadata": {},
   "outputs": [],
   "source": [
    "try:\n",
    "    raise NameError (\"Name Error raised from developer\") \n",
    "except NameError:     \n",
    "    print(\"AN exception occured: NameError\") \n",
    "    raise\n",
    "#     raise SyntaxError(\"You have an error!\")"
   ]
  },
  {
   "cell_type": "code",
   "execution_count": null,
   "id": "7d8e7f39",
   "metadata": {},
   "outputs": [],
   "source": [
    "with open(\"NewFileNov23.txt\", 'a') as file2:     \n",
    "    data = file2.write(\"\\n ABCD      2           10         B\") \n",
    "    \n",
    "    \n",
    "with open(\"NewFileNov23.txt\", 'r') as file2:     \n",
    "#     data = file2.write(\"Creating and writing to a new text document using with statement.\")     \n",
    "    print(file2.read())"
   ]
  },
  {
   "cell_type": "code",
   "execution_count": null,
   "id": "5e2d82d2",
   "metadata": {},
   "outputs": [],
   "source": [
    "# Store student information in a file \n",
    "with open('student_info.txt', 'a') as file:     \n",
    "    file.write(input(\"Enter student's name, roll number, class, division: \") + '\\n')  \n",
    "    # Display only the names of the students \n",
    "    \n",
    "with open('student_info.txt', 'r') as file:     \n",
    "    print(\"\\nList of Student Names:\")     \n",
    "    for line in file:         \n",
    "        print(\"\\nName:\",line.split(',')[0],\"\\nRoll Number:\",line.split(',')[1])"
   ]
  },
  {
   "cell_type": "code",
   "execution_count": null,
   "id": "327681c9",
   "metadata": {},
   "outputs": [],
   "source": [
    "def write_student_info(file_path, student_info):     \n",
    "    with open(file_path, 'a') as file:         \n",
    "        file.write(student_info + '\\n')  \n",
    "        \n",
    "def display_names(file_path):     \n",
    "    with open(file_path, 'r') as file:         \n",
    "        print(*(line.split(',')[0] for line in file), sep='\\n')  \n",
    "\n",
    "file_path = 'student_data.txt' \n",
    "write_student_info(file_path, 'Dhanush ,123 , 10,A') \n",
    "display_names(file_path)"
   ]
  },
  {
   "cell_type": "code",
   "execution_count": null,
   "id": "d3470ad2",
   "metadata": {},
   "outputs": [],
   "source": [
    "\n",
    "file5 = open('MyFilesi.txt','r') \n",
    "info = file5.readlines() \n",
    "for line in info:     \n",
    "    print(line)      \n",
    "    file5.close()"
   ]
  },
  {
   "cell_type": "code",
   "execution_count": null,
   "id": "ed364e6e",
   "metadata": {},
   "outputs": [],
   "source": [
    "file = open(\"student1.txt\", \"a\")  \n",
    "\n",
    "name = input(\"Enter the name of the student: \") \n",
    "rollno = input(\"Enter the roll number of the student: \") \n",
    "Class = input(\"Enter the class of the student: \") \n",
    "div = input(\"Enter the division of the student: \")    \n",
    "file.write(name + \",\" + rollno + \",\" + Class + \",\" + div + \"\\n\")   \n",
    "file.close()  \n",
    "\n",
    "file = open(\"student1.txt\", \"r\")   \n",
    "for line in file:          \n",
    "    data = line.split(\",\")           \n",
    "    print(data[0])  \n",
    "file.close()"
   ]
  },
  {
   "cell_type": "code",
   "execution_count": null,
   "id": "2313f89c",
   "metadata": {},
   "outputs": [],
   "source": [
    "# Writing data to the file \n",
    "with open('student_data12.txt', 'a') as file:     \n",
    "    file.write(\"Johny Doe,12,10,A\\n\") # Reading and displaying only names \n",
    "with open('student_data12.txt', 'r') as file:     \n",
    "    for line in file:         \n",
    "        data = line.split(',')         \n",
    "        print(data[0],data[1])"
   ]
  },
  {
   "cell_type": "code",
   "execution_count": null,
   "id": "e63d2949",
   "metadata": {},
   "outputs": [],
   "source": [
    "# create a list of file with students data:   \n",
    "with open('Class_list.txt', 'w') as file:     \n",
    "    file.write(\"Name: Zaka ,Rollno.: 123, Class: 10, Div: A\\n\")     \n",
    "    file.write(\"Name: Dhanush ,Rollno.: 456, Class: 11, Div: B\\n\")     \n",
    "    file.close()  # display name throught the file: \n",
    "with open('Class_list.txt', 'r') as file:     \n",
    "    for line in file:         \n",
    "        print(line.split(',')[0])"
   ]
  },
  {
   "cell_type": "code",
   "execution_count": null,
   "id": "cd8523f5",
   "metadata": {},
   "outputs": [],
   "source": [
    "with open('MyFilesi.txt','w') as file9:     \n",
    "    file9.write(\"Name : Amrit,\\n\")     \n",
    "    file9.write(\"class : 12,\\n\")     \n",
    "    file9.write(\"roll_no : 123,\\n\")     \n",
    "    file9.write(\"div : B\\n\")  \n",
    "with open('MyFilesi.txt','r') as file9:     \n",
    "    for line in file9:         \n",
    "        print(line)"
   ]
  },
  {
   "cell_type": "code",
   "execution_count": 11,
   "id": "5ca210cd",
   "metadata": {},
   "outputs": [
    {
     "name": "stdout",
     "output_type": "stream",
     "text": [
      "['Name', 'Rollnumber']\n",
      "['ABC', '1']\n",
      "['EFG', '2']\n"
     ]
    }
   ],
   "source": [
    "import csv\n",
    "\n",
    "with open(\"1.csv\", mode=\"r\") as file_object:\n",
    "    data=csv.reader(file_object)\n",
    "    \n",
    "    for line in data:\n",
    "        print(line)\n",
    "\n",
    "    "
   ]
  },
  {
   "cell_type": "code",
   "execution_count": 12,
   "id": "39b4e51e",
   "metadata": {},
   "outputs": [
    {
     "name": "stdout",
     "output_type": "stream",
     "text": [
      "Successfully opened csv\n",
      "['Name', 'Rollnumber']\n",
      "['ABC', '1']\n",
      "['EFG', '2']\n",
      "Exiting.\n"
     ]
    }
   ],
   "source": [
    "import csv \n",
    "#opening the csv file \n",
    "with open('C:/Users/Keonics/Desktop/1.csv' , mode='r') as file_object:      \n",
    "    print(\"Successfully opened csv\")          #reading the csv file     \n",
    "    data=csv.reader(file_object)     \n",
    "    for line in data:         \n",
    "        print(line)\n",
    "print(\"Exiting.\")"
   ]
  },
  {
   "cell_type": "code",
   "execution_count": 34,
   "id": "3459098b",
   "metadata": {},
   "outputs": [
    {
     "name": "stdout",
     "output_type": "stream",
     "text": [
      "<class '_csv.reader'>\n",
      "Netflix has released Dick Johnson Is Dead on 2020  & directed by  Kirsten Johnson\n",
      "Netflix has released Blood & Water on 2021  & directed by  \n",
      "Netflix has released Ganglands on 2021  & directed by  Julien Leclercq\n",
      "Netflix has released Jailbirds New Orleans on 2021  & directed by  \n"
     ]
    }
   ],
   "source": [
    "import csv\n",
    "c=0\n",
    "with open(\"C:/Users/Keonics/Desktop/netflix_titles.csv\",mode='r') as fd:\n",
    "    data=csv.reader(fd)\n",
    "    print(type(data))\n",
    "    for line in data:\n",
    "        c=c+1\n",
    "        if c>5:\n",
    "            break\n",
    "        if c==1:\n",
    "            continue\n",
    "        print(\"Netflix has released\",line[2], 'on', line[7],' & directed by ',line[3])\n",
    "        \n",
    "        \n",
    "        "
   ]
  },
  {
   "cell_type": "code",
   "execution_count": 39,
   "id": "27c4e2e1",
   "metadata": {},
   "outputs": [
    {
     "name": "stdout",
     "output_type": "stream",
     "text": [
      "<class 'csv.DictReader'>\n",
      "dict_keys(['show_id', 'type', 'title', 'director', 'cast', 'country', 'date_added', 'release_year', 'rating', 'duration', 'listed_in', 'description'])\n",
      "dict_keys(['show_id', 'type', 'title', 'director', 'cast', 'country', 'date_added', 'release_year', 'rating', 'duration', 'listed_in', 'description'])\n",
      "dict_keys(['show_id', 'type', 'title', 'director', 'cast', 'country', 'date_added', 'release_year', 'rating', 'duration', 'listed_in', 'description'])\n",
      "dict_keys(['show_id', 'type', 'title', 'director', 'cast', 'country', 'date_added', 'release_year', 'rating', 'duration', 'listed_in', 'description'])\n",
      "dict_keys(['show_id', 'type', 'title', 'director', 'cast', 'country', 'date_added', 'release_year', 'rating', 'duration', 'listed_in', 'description'])\n",
      "dict_keys(['show_id', 'type', 'title', 'director', 'cast', 'country', 'date_added', 'release_year', 'rating', 'duration', 'listed_in', 'description'])\n",
      "dict_keys(['show_id', 'type', 'title', 'director', 'cast', 'country', 'date_added', 'release_year', 'rating', 'duration', 'listed_in', 'description'])\n",
      "dict_keys(['show_id', 'type', 'title', 'director', 'cast', 'country', 'date_added', 'release_year', 'rating', 'duration', 'listed_in', 'description'])\n",
      "dict_keys(['show_id', 'type', 'title', 'director', 'cast', 'country', 'date_added', 'release_year', 'rating', 'duration', 'listed_in', 'description'])\n",
      "dict_keys(['show_id', 'type', 'title', 'director', 'cast', 'country', 'date_added', 'release_year', 'rating', 'duration', 'listed_in', 'description'])\n",
      "dict_keys(['show_id', 'type', 'title', 'director', 'cast', 'country', 'date_added', 'release_year', 'rating', 'duration', 'listed_in', 'description'])\n",
      "dict_keys(['show_id', 'type', 'title', 'director', 'cast', 'country', 'date_added', 'release_year', 'rating', 'duration', 'listed_in', 'description'])\n",
      "dict_keys(['show_id', 'type', 'title', 'director', 'cast', 'country', 'date_added', 'release_year', 'rating', 'duration', 'listed_in', 'description'])\n",
      "dict_keys(['show_id', 'type', 'title', 'director', 'cast', 'country', 'date_added', 'release_year', 'rating', 'duration', 'listed_in', 'description'])\n",
      "dict_keys(['show_id', 'type', 'title', 'director', 'cast', 'country', 'date_added', 'release_year', 'rating', 'duration', 'listed_in', 'description'])\n",
      "dict_keys(['show_id', 'type', 'title', 'director', 'cast', 'country', 'date_added', 'release_year', 'rating', 'duration', 'listed_in', 'description'])\n",
      "dict_keys(['show_id', 'type', 'title', 'director', 'cast', 'country', 'date_added', 'release_year', 'rating', 'duration', 'listed_in', 'description'])\n",
      "dict_keys(['show_id', 'type', 'title', 'director', 'cast', 'country', 'date_added', 'release_year', 'rating', 'duration', 'listed_in', 'description'])\n",
      "dict_keys(['show_id', 'type', 'title', 'director', 'cast', 'country', 'date_added', 'release_year', 'rating', 'duration', 'listed_in', 'description'])\n",
      "dict_keys(['show_id', 'type', 'title', 'director', 'cast', 'country', 'date_added', 'release_year', 'rating', 'duration', 'listed_in', 'description'])\n",
      "dict_keys(['show_id', 'type', 'title', 'director', 'cast', 'country', 'date_added', 'release_year', 'rating', 'duration', 'listed_in', 'description'])\n",
      "dict_keys(['show_id', 'type', 'title', 'director', 'cast', 'country', 'date_added', 'release_year', 'rating', 'duration', 'listed_in', 'description'])\n",
      "dict_keys(['show_id', 'type', 'title', 'director', 'cast', 'country', 'date_added', 'release_year', 'rating', 'duration', 'listed_in', 'description'])\n",
      "dict_keys(['show_id', 'type', 'title', 'director', 'cast', 'country', 'date_added', 'release_year', 'rating', 'duration', 'listed_in', 'description'])\n",
      "dict_keys(['show_id', 'type', 'title', 'director', 'cast', 'country', 'date_added', 'release_year', 'rating', 'duration', 'listed_in', 'description'])\n",
      "dict_keys(['show_id', 'type', 'title', 'director', 'cast', 'country', 'date_added', 'release_year', 'rating', 'duration', 'listed_in', 'description'])\n",
      "dict_keys(['show_id', 'type', 'title', 'director', 'cast', 'country', 'date_added', 'release_year', 'rating', 'duration', 'listed_in', 'description'])\n",
      "dict_keys(['show_id', 'type', 'title', 'director', 'cast', 'country', 'date_added', 'release_year', 'rating', 'duration', 'listed_in', 'description'])\n",
      "dict_keys(['show_id', 'type', 'title', 'director', 'cast', 'country', 'date_added', 'release_year', 'rating', 'duration', 'listed_in', 'description'])\n",
      "dict_keys(['show_id', 'type', 'title', 'director', 'cast', 'country', 'date_added', 'release_year', 'rating', 'duration', 'listed_in', 'description'])\n",
      "dict_keys(['show_id', 'type', 'title', 'director', 'cast', 'country', 'date_added', 'release_year', 'rating', 'duration', 'listed_in', 'description'])\n",
      "dict_keys(['show_id', 'type', 'title', 'director', 'cast', 'country', 'date_added', 'release_year', 'rating', 'duration', 'listed_in', 'description'])\n",
      "dict_keys(['show_id', 'type', 'title', 'director', 'cast', 'country', 'date_added', 'release_year', 'rating', 'duration', 'listed_in', 'description'])\n",
      "dict_keys(['show_id', 'type', 'title', 'director', 'cast', 'country', 'date_added', 'release_year', 'rating', 'duration', 'listed_in', 'description'])\n",
      "dict_keys(['show_id', 'type', 'title', 'director', 'cast', 'country', 'date_added', 'release_year', 'rating', 'duration', 'listed_in', 'description'])\n",
      "dict_keys(['show_id', 'type', 'title', 'director', 'cast', 'country', 'date_added', 'release_year', 'rating', 'duration', 'listed_in', 'description'])\n",
      "dict_keys(['show_id', 'type', 'title', 'director', 'cast', 'country', 'date_added', 'release_year', 'rating', 'duration', 'listed_in', 'description'])\n",
      "dict_keys(['show_id', 'type', 'title', 'director', 'cast', 'country', 'date_added', 'release_year', 'rating', 'duration', 'listed_in', 'description'])\n",
      "dict_keys(['show_id', 'type', 'title', 'director', 'cast', 'country', 'date_added', 'release_year', 'rating', 'duration', 'listed_in', 'description'])\n",
      "dict_keys(['show_id', 'type', 'title', 'director', 'cast', 'country', 'date_added', 'release_year', 'rating', 'duration', 'listed_in', 'description'])\n",
      "dict_keys(['show_id', 'type', 'title', 'director', 'cast', 'country', 'date_added', 'release_year', 'rating', 'duration', 'listed_in', 'description'])\n",
      "dict_keys(['show_id', 'type', 'title', 'director', 'cast', 'country', 'date_added', 'release_year', 'rating', 'duration', 'listed_in', 'description'])\n",
      "dict_keys(['show_id', 'type', 'title', 'director', 'cast', 'country', 'date_added', 'release_year', 'rating', 'duration', 'listed_in', 'description'])\n",
      "dict_keys(['show_id', 'type', 'title', 'director', 'cast', 'country', 'date_added', 'release_year', 'rating', 'duration', 'listed_in', 'description'])\n",
      "dict_keys(['show_id', 'type', 'title', 'director', 'cast', 'country', 'date_added', 'release_year', 'rating', 'duration', 'listed_in', 'description'])\n",
      "dict_keys(['show_id', 'type', 'title', 'director', 'cast', 'country', 'date_added', 'release_year', 'rating', 'duration', 'listed_in', 'description'])\n",
      "dict_keys(['show_id', 'type', 'title', 'director', 'cast', 'country', 'date_added', 'release_year', 'rating', 'duration', 'listed_in', 'description'])\n",
      "dict_keys(['show_id', 'type', 'title', 'director', 'cast', 'country', 'date_added', 'release_year', 'rating', 'duration', 'listed_in', 'description'])\n",
      "dict_keys(['show_id', 'type', 'title', 'director', 'cast', 'country', 'date_added', 'release_year', 'rating', 'duration', 'listed_in', 'description'])\n",
      "dict_keys(['show_id', 'type', 'title', 'director', 'cast', 'country', 'date_added', 'release_year', 'rating', 'duration', 'listed_in', 'description'])\n",
      "dict_keys(['show_id', 'type', 'title', 'director', 'cast', 'country', 'date_added', 'release_year', 'rating', 'duration', 'listed_in', 'description'])\n",
      "dict_keys(['show_id', 'type', 'title', 'director', 'cast', 'country', 'date_added', 'release_year', 'rating', 'duration', 'listed_in', 'description'])\n",
      "dict_keys(['show_id', 'type', 'title', 'director', 'cast', 'country', 'date_added', 'release_year', 'rating', 'duration', 'listed_in', 'description'])\n",
      "dict_keys(['show_id', 'type', 'title', 'director', 'cast', 'country', 'date_added', 'release_year', 'rating', 'duration', 'listed_in', 'description'])\n",
      "dict_keys(['show_id', 'type', 'title', 'director', 'cast', 'country', 'date_added', 'release_year', 'rating', 'duration', 'listed_in', 'description'])\n",
      "dict_keys(['show_id', 'type', 'title', 'director', 'cast', 'country', 'date_added', 'release_year', 'rating', 'duration', 'listed_in', 'description'])\n",
      "dict_keys(['show_id', 'type', 'title', 'director', 'cast', 'country', 'date_added', 'release_year', 'rating', 'duration', 'listed_in', 'description'])\n",
      "dict_keys(['show_id', 'type', 'title', 'director', 'cast', 'country', 'date_added', 'release_year', 'rating', 'duration', 'listed_in', 'description'])\n",
      "dict_keys(['show_id', 'type', 'title', 'director', 'cast', 'country', 'date_added', 'release_year', 'rating', 'duration', 'listed_in', 'description'])\n",
      "dict_keys(['show_id', 'type', 'title', 'director', 'cast', 'country', 'date_added', 'release_year', 'rating', 'duration', 'listed_in', 'description'])\n",
      "dict_keys(['show_id', 'type', 'title', 'director', 'cast', 'country', 'date_added', 'release_year', 'rating', 'duration', 'listed_in', 'description'])\n",
      "dict_keys(['show_id', 'type', 'title', 'director', 'cast', 'country', 'date_added', 'release_year', 'rating', 'duration', 'listed_in', 'description'])\n",
      "dict_keys(['show_id', 'type', 'title', 'director', 'cast', 'country', 'date_added', 'release_year', 'rating', 'duration', 'listed_in', 'description'])\n",
      "dict_keys(['show_id', 'type', 'title', 'director', 'cast', 'country', 'date_added', 'release_year', 'rating', 'duration', 'listed_in', 'description'])\n",
      "dict_keys(['show_id', 'type', 'title', 'director', 'cast', 'country', 'date_added', 'release_year', 'rating', 'duration', 'listed_in', 'description'])\n",
      "dict_keys(['show_id', 'type', 'title', 'director', 'cast', 'country', 'date_added', 'release_year', 'rating', 'duration', 'listed_in', 'description'])\n",
      "dict_keys(['show_id', 'type', 'title', 'director', 'cast', 'country', 'date_added', 'release_year', 'rating', 'duration', 'listed_in', 'description'])\n",
      "dict_keys(['show_id', 'type', 'title', 'director', 'cast', 'country', 'date_added', 'release_year', 'rating', 'duration', 'listed_in', 'description'])\n",
      "dict_keys(['show_id', 'type', 'title', 'director', 'cast', 'country', 'date_added', 'release_year', 'rating', 'duration', 'listed_in', 'description'])\n",
      "dict_keys(['show_id', 'type', 'title', 'director', 'cast', 'country', 'date_added', 'release_year', 'rating', 'duration', 'listed_in', 'description'])\n",
      "dict_keys(['show_id', 'type', 'title', 'director', 'cast', 'country', 'date_added', 'release_year', 'rating', 'duration', 'listed_in', 'description'])\n",
      "dict_keys(['show_id', 'type', 'title', 'director', 'cast', 'country', 'date_added', 'release_year', 'rating', 'duration', 'listed_in', 'description'])\n",
      "dict_keys(['show_id', 'type', 'title', 'director', 'cast', 'country', 'date_added', 'release_year', 'rating', 'duration', 'listed_in', 'description'])\n",
      "dict_keys(['show_id', 'type', 'title', 'director', 'cast', 'country', 'date_added', 'release_year', 'rating', 'duration', 'listed_in', 'description'])\n",
      "dict_keys(['show_id', 'type', 'title', 'director', 'cast', 'country', 'date_added', 'release_year', 'rating', 'duration', 'listed_in', 'description'])\n",
      "dict_keys(['show_id', 'type', 'title', 'director', 'cast', 'country', 'date_added', 'release_year', 'rating', 'duration', 'listed_in', 'description'])\n",
      "dict_keys(['show_id', 'type', 'title', 'director', 'cast', 'country', 'date_added', 'release_year', 'rating', 'duration', 'listed_in', 'description'])\n",
      "dict_keys(['show_id', 'type', 'title', 'director', 'cast', 'country', 'date_added', 'release_year', 'rating', 'duration', 'listed_in', 'description'])\n",
      "dict_keys(['show_id', 'type', 'title', 'director', 'cast', 'country', 'date_added', 'release_year', 'rating', 'duration', 'listed_in', 'description'])\n",
      "dict_keys(['show_id', 'type', 'title', 'director', 'cast', 'country', 'date_added', 'release_year', 'rating', 'duration', 'listed_in', 'description'])\n",
      "dict_keys(['show_id', 'type', 'title', 'director', 'cast', 'country', 'date_added', 'release_year', 'rating', 'duration', 'listed_in', 'description'])\n",
      "dict_keys(['show_id', 'type', 'title', 'director', 'cast', 'country', 'date_added', 'release_year', 'rating', 'duration', 'listed_in', 'description'])\n",
      "dict_keys(['show_id', 'type', 'title', 'director', 'cast', 'country', 'date_added', 'release_year', 'rating', 'duration', 'listed_in', 'description'])\n",
      "dict_keys(['show_id', 'type', 'title', 'director', 'cast', 'country', 'date_added', 'release_year', 'rating', 'duration', 'listed_in', 'description'])\n",
      "dict_keys(['show_id', 'type', 'title', 'director', 'cast', 'country', 'date_added', 'release_year', 'rating', 'duration', 'listed_in', 'description'])\n",
      "dict_keys(['show_id', 'type', 'title', 'director', 'cast', 'country', 'date_added', 'release_year', 'rating', 'duration', 'listed_in', 'description'])\n",
      "dict_keys(['show_id', 'type', 'title', 'director', 'cast', 'country', 'date_added', 'release_year', 'rating', 'duration', 'listed_in', 'description'])\n",
      "dict_keys(['show_id', 'type', 'title', 'director', 'cast', 'country', 'date_added', 'release_year', 'rating', 'duration', 'listed_in', 'description'])\n",
      "dict_keys(['show_id', 'type', 'title', 'director', 'cast', 'country', 'date_added', 'release_year', 'rating', 'duration', 'listed_in', 'description'])\n",
      "dict_keys(['show_id', 'type', 'title', 'director', 'cast', 'country', 'date_added', 'release_year', 'rating', 'duration', 'listed_in', 'description'])\n",
      "dict_keys(['show_id', 'type', 'title', 'director', 'cast', 'country', 'date_added', 'release_year', 'rating', 'duration', 'listed_in', 'description'])\n",
      "dict_keys(['show_id', 'type', 'title', 'director', 'cast', 'country', 'date_added', 'release_year', 'rating', 'duration', 'listed_in', 'description'])\n",
      "dict_keys(['show_id', 'type', 'title', 'director', 'cast', 'country', 'date_added', 'release_year', 'rating', 'duration', 'listed_in', 'description'])\n",
      "dict_keys(['show_id', 'type', 'title', 'director', 'cast', 'country', 'date_added', 'release_year', 'rating', 'duration', 'listed_in', 'description'])\n",
      "dict_keys(['show_id', 'type', 'title', 'director', 'cast', 'country', 'date_added', 'release_year', 'rating', 'duration', 'listed_in', 'description'])\n",
      "dict_keys(['show_id', 'type', 'title', 'director', 'cast', 'country', 'date_added', 'release_year', 'rating', 'duration', 'listed_in', 'description'])\n",
      "dict_keys(['show_id', 'type', 'title', 'director', 'cast', 'country', 'date_added', 'release_year', 'rating', 'duration', 'listed_in', 'description'])\n",
      "dict_keys(['show_id', 'type', 'title', 'director', 'cast', 'country', 'date_added', 'release_year', 'rating', 'duration', 'listed_in', 'description'])\n",
      "dict_keys(['show_id', 'type', 'title', 'director', 'cast', 'country', 'date_added', 'release_year', 'rating', 'duration', 'listed_in', 'description'])\n",
      "dict_keys(['show_id', 'type', 'title', 'director', 'cast', 'country', 'date_added', 'release_year', 'rating', 'duration', 'listed_in', 'description'])\n",
      "dict_keys(['show_id', 'type', 'title', 'director', 'cast', 'country', 'date_added', 'release_year', 'rating', 'duration', 'listed_in', 'description'])\n"
     ]
    },
    {
     "ename": "UnicodeDecodeError",
     "evalue": "'charmap' codec can't decode byte 0x81 in position 2853: character maps to <undefined>",
     "output_type": "error",
     "traceback": [
      "\u001b[1;31m---------------------------------------------------------------------------\u001b[0m",
      "\u001b[1;31mUnicodeDecodeError\u001b[0m                        Traceback (most recent call last)",
      "Cell \u001b[1;32mIn[39], line 6\u001b[0m\n\u001b[0;32m      4\u001b[0m     data\u001b[38;5;241m=\u001b[39mcsv\u001b[38;5;241m.\u001b[39mDictReader(fd)\n\u001b[0;32m      5\u001b[0m     \u001b[38;5;28mprint\u001b[39m(\u001b[38;5;28mtype\u001b[39m(data))\n\u001b[1;32m----> 6\u001b[0m     \u001b[38;5;28;01mfor\u001b[39;00m line \u001b[38;5;129;01min\u001b[39;00m data:\n\u001b[0;32m      7\u001b[0m \u001b[38;5;66;03m#         c=c+1\u001b[39;00m\n\u001b[0;32m      8\u001b[0m \u001b[38;5;66;03m#         if c>5:\u001b[39;00m\n\u001b[0;32m      9\u001b[0m \u001b[38;5;66;03m#             break\u001b[39;00m\n\u001b[0;32m     10\u001b[0m \u001b[38;5;66;03m#         if c==1:\u001b[39;00m\n\u001b[0;32m     11\u001b[0m \u001b[38;5;66;03m#             continue\u001b[39;00m\n\u001b[0;32m     12\u001b[0m         \u001b[38;5;28mprint\u001b[39m(line\u001b[38;5;241m.\u001b[39mkeys())\n",
      "File \u001b[1;32m~\\anaconda3\\Lib\\csv.py:111\u001b[0m, in \u001b[0;36mDictReader.__next__\u001b[1;34m(self)\u001b[0m\n\u001b[0;32m    108\u001b[0m \u001b[38;5;28;01mif\u001b[39;00m \u001b[38;5;28mself\u001b[39m\u001b[38;5;241m.\u001b[39mline_num \u001b[38;5;241m==\u001b[39m \u001b[38;5;241m0\u001b[39m:\n\u001b[0;32m    109\u001b[0m     \u001b[38;5;66;03m# Used only for its side effect.\u001b[39;00m\n\u001b[0;32m    110\u001b[0m     \u001b[38;5;28mself\u001b[39m\u001b[38;5;241m.\u001b[39mfieldnames\n\u001b[1;32m--> 111\u001b[0m row \u001b[38;5;241m=\u001b[39m \u001b[38;5;28mnext\u001b[39m(\u001b[38;5;28mself\u001b[39m\u001b[38;5;241m.\u001b[39mreader)\n\u001b[0;32m    112\u001b[0m \u001b[38;5;28mself\u001b[39m\u001b[38;5;241m.\u001b[39mline_num \u001b[38;5;241m=\u001b[39m \u001b[38;5;28mself\u001b[39m\u001b[38;5;241m.\u001b[39mreader\u001b[38;5;241m.\u001b[39mline_num\n\u001b[0;32m    114\u001b[0m \u001b[38;5;66;03m# unlike the basic reader, we prefer not to return blanks,\u001b[39;00m\n\u001b[0;32m    115\u001b[0m \u001b[38;5;66;03m# because we will typically wind up with a dict full of None\u001b[39;00m\n\u001b[0;32m    116\u001b[0m \u001b[38;5;66;03m# values\u001b[39;00m\n",
      "File \u001b[1;32m~\\anaconda3\\Lib\\encodings\\cp1252.py:23\u001b[0m, in \u001b[0;36mIncrementalDecoder.decode\u001b[1;34m(self, input, final)\u001b[0m\n\u001b[0;32m     22\u001b[0m \u001b[38;5;28;01mdef\u001b[39;00m \u001b[38;5;21mdecode\u001b[39m(\u001b[38;5;28mself\u001b[39m, \u001b[38;5;28minput\u001b[39m, final\u001b[38;5;241m=\u001b[39m\u001b[38;5;28;01mFalse\u001b[39;00m):\n\u001b[1;32m---> 23\u001b[0m     \u001b[38;5;28;01mreturn\u001b[39;00m codecs\u001b[38;5;241m.\u001b[39mcharmap_decode(\u001b[38;5;28minput\u001b[39m,\u001b[38;5;28mself\u001b[39m\u001b[38;5;241m.\u001b[39merrors,decoding_table)[\u001b[38;5;241m0\u001b[39m]\n",
      "\u001b[1;31mUnicodeDecodeError\u001b[0m: 'charmap' codec can't decode byte 0x81 in position 2853: character maps to <undefined>"
     ]
    }
   ],
   "source": [
    "import csv\n",
    "c=0\n",
    "with open(\"C:/Users/Keonics/Desktop/netflix_titles.csv\",mode='r') as fd:\n",
    "    data=csv.DictReader(fd)\n",
    "    print(type(data))\n",
    "    for line in data:\n",
    "#         c=c+1\n",
    "#         if c>5:\n",
    "#             break\n",
    "#         if c==1:\n",
    "#             continue\n",
    "        print(line.keys())\n",
    "        \n",
    "        \n",
    "        "
   ]
  },
  {
   "cell_type": "code",
   "execution_count": 52,
   "id": "cd676827",
   "metadata": {},
   "outputs": [
    {
     "name": "stdout",
     "output_type": "stream",
     "text": [
      "2\n",
      "  ABC     1 \n",
      "\n",
      "2\n",
      "  EFG     2 \n",
      "\n"
     ]
    }
   ],
   "source": [
    "import csv \n",
    "filename=\"C:/Users/Keonics/Desktop/1.csv\"\n",
    "fields=[]\n",
    "rows=[]\n",
    "with open(filename,mode='r') as csvfile:\n",
    "    csvreader=csv.reader(csvfile)\n",
    "    fields=next(csvreader)\n",
    "#     for columnname in fields:\n",
    "#         print(columnname)\n",
    "    for row in csvreader:\n",
    "        \n",
    "        rows.append(row)\n",
    "#         print(rows)\n",
    "for row in rows[:5]: \n",
    "    \n",
    "    for col in row:  # loops 2 times\n",
    "        \n",
    "        print(\"%5s\"%col,end=\" \")\n",
    "        \n",
    "    print(\"\\n\")"
   ]
  },
  {
   "cell_type": "code",
   "execution_count": 3,
   "id": "f0d2ce90",
   "metadata": {},
   "outputs": [
    {
     "name": "stdout",
     "output_type": "stream",
     "text": [
      "Data written to student_data00.csv\n"
     ]
    }
   ],
   "source": [
    "import csv\n",
    "\n",
    "data=[\n",
    "    {'branch':'CSE','cgpa':9.0,'name':'Sanchit','year':3},\n",
    "     {'branch':'ECE','cgpa':8.5,'name':'Sagar','year':2},\n",
    "     {'branch':'CE','cgpa':9.5,'name':'Sahil','year':4}\n",
    "]\n",
    "\n",
    "fields=['name','branch','year','cgpa']\n",
    "filename='student_data00.csv'\n",
    "with open(filename,'w',newline='') as fd:\n",
    "    WO=csv.DictWriter(fd,fieldnames=fields)\n",
    "#     WO.writeheader()\n",
    "    WO.writerows(data)\n",
    "    print(f'Data written to {filename}')"
   ]
  },
  {
   "cell_type": "code",
   "execution_count": 4,
   "id": "59046267",
   "metadata": {},
   "outputs": [
    {
     "name": "stdout",
     "output_type": "stream",
     "text": [
      "Requirement already satisfied: tensorflow in c:\\users\\keonics\\anaconda3\\lib\\site-packages (2.13.0)\n",
      "Requirement already satisfied: tensorflow-intel==2.13.0 in c:\\users\\keonics\\anaconda3\\lib\\site-packages (from tensorflow) (2.13.0)\n",
      "Requirement already satisfied: absl-py>=1.0.0 in c:\\users\\keonics\\anaconda3\\lib\\site-packages (from tensorflow-intel==2.13.0->tensorflow) (1.4.0)\n",
      "Requirement already satisfied: astunparse>=1.6.0 in c:\\users\\keonics\\anaconda3\\lib\\site-packages (from tensorflow-intel==2.13.0->tensorflow) (1.6.3)\n",
      "Requirement already satisfied: flatbuffers>=23.1.21 in c:\\users\\keonics\\anaconda3\\lib\\site-packages (from tensorflow-intel==2.13.0->tensorflow) (23.5.26)\n",
      "Requirement already satisfied: gast<=0.4.0,>=0.2.1 in c:\\users\\keonics\\anaconda3\\lib\\site-packages (from tensorflow-intel==2.13.0->tensorflow) (0.4.0)\n",
      "Requirement already satisfied: google-pasta>=0.1.1 in c:\\users\\keonics\\anaconda3\\lib\\site-packages (from tensorflow-intel==2.13.0->tensorflow) (0.2.0)\n",
      "Requirement already satisfied: h5py>=2.9.0 in c:\\users\\keonics\\anaconda3\\lib\\site-packages (from tensorflow-intel==2.13.0->tensorflow) (3.7.0)\n",
      "Requirement already satisfied: libclang>=13.0.0 in c:\\users\\keonics\\anaconda3\\lib\\site-packages (from tensorflow-intel==2.13.0->tensorflow) (16.0.6)\n",
      "Requirement already satisfied: numpy<=1.24.3,>=1.22 in c:\\users\\keonics\\anaconda3\\lib\\site-packages (from tensorflow-intel==2.13.0->tensorflow) (1.24.3)\n",
      "Requirement already satisfied: opt-einsum>=2.3.2 in c:\\users\\keonics\\anaconda3\\lib\\site-packages (from tensorflow-intel==2.13.0->tensorflow) (3.3.0)\n",
      "Requirement already satisfied: packaging in c:\\users\\keonics\\appdata\\roaming\\python\\python311\\site-packages (from tensorflow-intel==2.13.0->tensorflow) (23.0)\n",
      "Requirement already satisfied: protobuf!=4.21.0,!=4.21.1,!=4.21.2,!=4.21.3,!=4.21.4,!=4.21.5,<5.0.0dev,>=3.20.3 in c:\\users\\keonics\\anaconda3\\lib\\site-packages (from tensorflow-intel==2.13.0->tensorflow) (4.23.4)\n",
      "Requirement already satisfied: setuptools in c:\\users\\keonics\\anaconda3\\lib\\site-packages (from tensorflow-intel==2.13.0->tensorflow) (67.8.0)\n",
      "Requirement already satisfied: six>=1.12.0 in c:\\users\\keonics\\appdata\\roaming\\python\\python311\\site-packages (from tensorflow-intel==2.13.0->tensorflow) (1.16.0)\n",
      "Requirement already satisfied: termcolor>=1.1.0 in c:\\users\\keonics\\anaconda3\\lib\\site-packages (from tensorflow-intel==2.13.0->tensorflow) (2.3.0)\n",
      "Requirement already satisfied: typing-extensions<4.6.0,>=3.6.6 in c:\\users\\keonics\\anaconda3\\lib\\site-packages (from tensorflow-intel==2.13.0->tensorflow) (4.5.0)\n",
      "Requirement already satisfied: wrapt>=1.11.0 in c:\\users\\keonics\\anaconda3\\lib\\site-packages (from tensorflow-intel==2.13.0->tensorflow) (1.14.1)\n",
      "Requirement already satisfied: grpcio<2.0,>=1.24.3 in c:\\users\\keonics\\anaconda3\\lib\\site-packages (from tensorflow-intel==2.13.0->tensorflow) (1.56.2)\n",
      "Requirement already satisfied: tensorboard<2.14,>=2.13 in c:\\users\\keonics\\anaconda3\\lib\\site-packages (from tensorflow-intel==2.13.0->tensorflow) (2.13.0)\n",
      "Requirement already satisfied: tensorflow-estimator<2.14,>=2.13.0 in c:\\users\\keonics\\anaconda3\\lib\\site-packages (from tensorflow-intel==2.13.0->tensorflow) (2.13.0)\n",
      "Requirement already satisfied: keras<2.14,>=2.13.1 in c:\\users\\keonics\\anaconda3\\lib\\site-packages (from tensorflow-intel==2.13.0->tensorflow) (2.13.1)\n",
      "Requirement already satisfied: tensorflow-io-gcs-filesystem>=0.23.1 in c:\\users\\keonics\\anaconda3\\lib\\site-packages (from tensorflow-intel==2.13.0->tensorflow) (0.31.0)\n",
      "Requirement already satisfied: wheel<1.0,>=0.23.0 in c:\\users\\keonics\\anaconda3\\lib\\site-packages (from astunparse>=1.6.0->tensorflow-intel==2.13.0->tensorflow) (0.38.4)\n",
      "Requirement already satisfied: google-auth<3,>=1.6.3 in c:\\users\\keonics\\anaconda3\\lib\\site-packages (from tensorboard<2.14,>=2.13->tensorflow-intel==2.13.0->tensorflow) (2.22.0)\n",
      "Requirement already satisfied: google-auth-oauthlib<1.1,>=0.5 in c:\\users\\keonics\\anaconda3\\lib\\site-packages (from tensorboard<2.14,>=2.13->tensorflow-intel==2.13.0->tensorflow) (1.0.0)\n",
      "Requirement already satisfied: markdown>=2.6.8 in c:\\users\\keonics\\anaconda3\\lib\\site-packages (from tensorboard<2.14,>=2.13->tensorflow-intel==2.13.0->tensorflow) (3.4.1)\n",
      "Requirement already satisfied: requests<3,>=2.21.0 in c:\\users\\keonics\\anaconda3\\lib\\site-packages (from tensorboard<2.14,>=2.13->tensorflow-intel==2.13.0->tensorflow) (2.29.0)\n",
      "Requirement already satisfied: tensorboard-data-server<0.8.0,>=0.7.0 in c:\\users\\keonics\\anaconda3\\lib\\site-packages (from tensorboard<2.14,>=2.13->tensorflow-intel==2.13.0->tensorflow) (0.7.1)\n",
      "Requirement already satisfied: werkzeug>=1.0.1 in c:\\users\\keonics\\anaconda3\\lib\\site-packages (from tensorboard<2.14,>=2.13->tensorflow-intel==2.13.0->tensorflow) (2.2.3)\n",
      "Requirement already satisfied: cachetools<6.0,>=2.0.0 in c:\\users\\keonics\\anaconda3\\lib\\site-packages (from google-auth<3,>=1.6.3->tensorboard<2.14,>=2.13->tensorflow-intel==2.13.0->tensorflow) (5.3.1)\n",
      "Requirement already satisfied: pyasn1-modules>=0.2.1 in c:\\users\\keonics\\anaconda3\\lib\\site-packages (from google-auth<3,>=1.6.3->tensorboard<2.14,>=2.13->tensorflow-intel==2.13.0->tensorflow) (0.2.8)\n",
      "Requirement already satisfied: rsa<5,>=3.1.4 in c:\\users\\keonics\\anaconda3\\lib\\site-packages (from google-auth<3,>=1.6.3->tensorboard<2.14,>=2.13->tensorflow-intel==2.13.0->tensorflow) (4.9)\n",
      "Requirement already satisfied: urllib3<2.0 in c:\\users\\keonics\\anaconda3\\lib\\site-packages (from google-auth<3,>=1.6.3->tensorboard<2.14,>=2.13->tensorflow-intel==2.13.0->tensorflow) (1.26.16)\n",
      "Requirement already satisfied: requests-oauthlib>=0.7.0 in c:\\users\\keonics\\anaconda3\\lib\\site-packages (from google-auth-oauthlib<1.1,>=0.5->tensorboard<2.14,>=2.13->tensorflow-intel==2.13.0->tensorflow) (1.3.1)\n",
      "Requirement already satisfied: charset-normalizer<4,>=2 in c:\\users\\keonics\\anaconda3\\lib\\site-packages (from requests<3,>=2.21.0->tensorboard<2.14,>=2.13->tensorflow-intel==2.13.0->tensorflow) (2.0.4)\n",
      "Requirement already satisfied: idna<4,>=2.5 in c:\\users\\keonics\\anaconda3\\lib\\site-packages (from requests<3,>=2.21.0->tensorboard<2.14,>=2.13->tensorflow-intel==2.13.0->tensorflow) (3.4)\n",
      "Requirement already satisfied: certifi>=2017.4.17 in c:\\users\\keonics\\anaconda3\\lib\\site-packages (from requests<3,>=2.21.0->tensorboard<2.14,>=2.13->tensorflow-intel==2.13.0->tensorflow) (2023.5.7)\n",
      "Requirement already satisfied: MarkupSafe>=2.1.1 in c:\\users\\keonics\\anaconda3\\lib\\site-packages (from werkzeug>=1.0.1->tensorboard<2.14,>=2.13->tensorflow-intel==2.13.0->tensorflow) (2.1.1)\n",
      "Requirement already satisfied: pyasn1<0.5.0,>=0.4.6 in c:\\users\\keonics\\anaconda3\\lib\\site-packages (from pyasn1-modules>=0.2.1->google-auth<3,>=1.6.3->tensorboard<2.14,>=2.13->tensorflow-intel==2.13.0->tensorflow) (0.4.8)\n",
      "Requirement already satisfied: oauthlib>=3.0.0 in c:\\users\\keonics\\anaconda3\\lib\\site-packages (from requests-oauthlib>=0.7.0->google-auth-oauthlib<1.1,>=0.5->tensorboard<2.14,>=2.13->tensorflow-intel==2.13.0->tensorflow) (3.2.2)\n"
     ]
    }
   ],
   "source": [
    "!pip install tensorflow"
   ]
  },
  {
   "cell_type": "code",
   "execution_count": 5,
   "id": "df2c80f3",
   "metadata": {},
   "outputs": [
    {
     "name": "stdout",
     "output_type": "stream",
     "text": [
      "Package                       Version\n",
      "----------------------------- ---------------\n",
      "absl-py                       1.4.0\n",
      "aiobotocore                   2.4.2\n",
      "aiofiles                      22.1.0\n",
      "aiohttp                       3.8.3\n",
      "aioitertools                  0.7.1\n",
      "aiosignal                     1.2.0\n",
      "aiosqlite                     0.18.0\n",
      "alabaster                     0.7.12\n",
      "anaconda-catalogs             0.2.0\n",
      "anaconda-client               1.11.3\n",
      "anaconda-navigator            2.4.2\n",
      "anaconda-project              0.11.1\n",
      "anyio                         3.5.0\n",
      "appdirs                       1.4.4\n",
      "argon2-cffi                   21.3.0\n",
      "argon2-cffi-bindings          21.2.0\n",
      "arrow                         1.2.3\n",
      "astroid                       2.14.2\n",
      "astropy                       5.1\n",
      "asttokens                     2.2.1\n",
      "astunparse                    1.6.3\n",
      "async-timeout                 4.0.2\n",
      "atomicwrites                  1.4.0\n",
      "attrs                         22.1.0\n",
      "Automat                       20.2.0\n",
      "autopep8                      1.6.0\n",
      "Babel                         2.11.0\n",
      "backcall                      0.2.0\n",
      "backports.functools-lru-cache 1.6.4\n",
      "backports.tempfile            1.0\n",
      "backports.weakref             1.0.post1\n",
      "bcrypt                        3.2.0\n",
      "beautifulsoup4                4.12.2\n",
      "binaryornot                   0.4.4\n",
      "black                         0.0\n",
      "bleach                        4.1.0\n",
      "bokeh                         3.1.1\n",
      "boltons                       23.0.0\n",
      "boto3                         1.24.28\n",
      "botocore                      1.27.59\n",
      "Bottleneck                    1.3.5\n",
      "brotlipy                      0.7.0\n",
      "cachetools                    5.3.1\n",
      "certifi                       2023.5.7\n",
      "cffi                          1.15.1\n",
      "chardet                       4.0.0\n",
      "charset-normalizer            2.0.4\n",
      "click                         8.0.4\n",
      "cloudpickle                   2.2.1\n",
      "clyent                        1.2.2\n",
      "cmake                         3.27.2\n",
      "colorama                      0.4.6\n",
      "colorcet                      3.0.1\n",
      "comm                          0.1.2\n",
      "conda                         23.5.0\n",
      "conda-build                   3.25.0\n",
      "conda-content-trust           0.1.3\n",
      "conda_index                   0.2.3\n",
      "conda-libmamba-solver         23.5.0\n",
      "conda-pack                    0.6.0\n",
      "conda-package-handling        2.1.0\n",
      "conda_package_streaming       0.8.0\n",
      "conda-repo-cli                1.0.41\n",
      "conda-token                   0.4.0\n",
      "conda-verify                  3.4.2\n",
      "constantly                    15.1.0\n",
      "contourpy                     1.0.5\n",
      "cookiecutter                  1.7.3\n",
      "cryptography                  39.0.1\n",
      "cssselect                     1.1.0\n",
      "cycler                        0.11.0\n",
      "cytoolz                       0.12.0\n",
      "daal4py                       2023.1.1\n",
      "dask                          2023.6.0\n",
      "datashader                    0.15.0\n",
      "datashape                     0.5.4\n",
      "debugpy                       1.6.6\n",
      "decorator                     5.1.1\n",
      "defusedxml                    0.7.1\n",
      "diff-match-patch              20200713\n",
      "dill                          0.3.6\n",
      "distributed                   2023.6.0\n",
      "docstring-to-markdown         0.11\n",
      "docutils                      0.18.1\n",
      "entrypoints                   0.4\n",
      "et-xmlfile                    1.1.0\n",
      "executing                     1.2.0\n",
      "fastjsonschema                2.16.2\n",
      "filelock                      3.9.0\n",
      "flake8                        6.0.0\n",
      "Flask                         2.2.2\n",
      "flatbuffers                   23.5.26\n",
      "fonttools                     4.25.0\n",
      "frozenlist                    1.3.3\n",
      "fsspec                        2023.3.0\n",
      "future                        0.18.3\n",
      "gast                          0.4.0\n",
      "gensim                        4.3.0\n",
      "glob2                         0.7\n",
      "google-auth                   2.22.0\n",
      "google-auth-oauthlib          1.0.0\n",
      "google-pasta                  0.2.0\n",
      "greenlet                      2.0.1\n",
      "grpcio                        1.56.2\n",
      "h5py                          3.7.0\n",
      "HeapDict                      1.0.1\n",
      "holoviews                     1.16.2\n",
      "hvplot                        0.8.4\n",
      "hyperlink                     21.0.0\n",
      "idna                          3.4\n",
      "imagecodecs                   2021.8.26\n",
      "imageio                       2.26.0\n",
      "imagesize                     1.4.1\n",
      "imbalanced-learn              0.10.1\n",
      "importlib-metadata            6.0.0\n",
      "incremental                   21.3.0\n",
      "inflection                    0.5.1\n",
      "iniconfig                     1.1.1\n",
      "intake                        0.6.8\n",
      "intervaltree                  3.1.0\n",
      "ipykernel                     6.21.2\n",
      "ipython                       8.10.0\n",
      "ipython-genutils              0.2.0\n",
      "ipywidgets                    8.0.4\n",
      "isort                         5.9.3\n",
      "itemadapter                   0.3.0\n",
      "itemloaders                   1.0.4\n",
      "itsdangerous                  2.0.1\n",
      "jaraco.classes                3.2.1\n",
      "jedi                          0.18.2\n",
      "jellyfish                     0.9.0\n",
      "Jinja2                        3.1.2\n",
      "jinja2-time                   0.2.0\n",
      "jmespath                      0.10.0\n",
      "joblib                        1.2.0\n",
      "json5                         0.9.6\n",
      "jsonpatch                     1.32\n",
      "jsonpointer                   2.1\n",
      "jsonschema                    4.17.3\n",
      "jupyter                       1.0.0\n",
      "jupyter_client                8.0.3\n",
      "jupyter-console               6.6.3\n",
      "jupyter_core                  5.2.0\n",
      "jupyter-events                0.6.3\n",
      "jupyter-server                1.24.0\n",
      "jupyter_server_fileid         0.9.0\n",
      "jupyter_server_terminals      0.4.4\n",
      "jupyter_server_ydoc           0.8.0\n",
      "jupyter-ydoc                  0.2.4\n",
      "jupyterlab                    3.6.3\n",
      "jupyterlab-pygments           0.1.2\n",
      "jupyterlab_server             2.22.0\n",
      "jupyterlab-widgets            3.0.5\n",
      "keras                         2.13.1\n",
      "keyring                       23.13.1\n",
      "kiwisolver                    1.4.4\n",
      "lazy_loader                   0.2\n",
      "lazy-object-proxy             1.6.0\n",
      "libarchive-c                  2.9\n",
      "libclang                      16.0.6\n",
      "libmambapy                    1.4.1\n",
      "linkify-it-py                 2.0.0\n",
      "llvmlite                      0.40.0\n",
      "lmdb                          1.4.1\n",
      "locket                        1.0.0\n",
      "lxml                          4.9.2\n",
      "lz4                           4.3.2\n",
      "Markdown                      3.4.1\n",
      "markdown-it-py                2.2.0\n",
      "MarkupSafe                    2.1.1\n",
      "matplotlib                    3.7.1\n",
      "matplotlib-inline             0.1.6\n",
      "mccabe                        0.7.0\n",
      "mdit-py-plugins               0.3.0\n",
      "mdurl                         0.1.0\n",
      "menuinst                      1.4.19\n",
      "mistune                       0.8.4\n",
      "mkl-fft                       1.3.6\n",
      "mkl-random                    1.2.2\n",
      "mkl-service                   2.4.0\n",
      "more-itertools                8.12.0\n",
      "mpmath                        1.2.1\n",
      "msgpack                       1.0.3\n",
      "multidict                     6.0.2\n",
      "multipledispatch              0.6.0\n",
      "munkres                       1.1.4\n",
      "mypy-extensions               0.4.3\n",
      "navigator-updater             0.4.0\n",
      "nbclassic                     0.5.5\n",
      "nbclient                      0.5.13\n",
      "nbconvert                     6.5.4\n",
      "nbformat                      5.7.0\n",
      "nest-asyncio                  1.5.6\n",
      "networkx                      2.8.4\n",
      "nltk                          3.7\n",
      "notebook                      6.5.4\n",
      "notebook_shim                 0.2.2\n",
      "numba                         0.57.0\n",
      "numexpr                       2.8.4\n",
      "numpy                         1.24.3\n",
      "numpydoc                      1.5.0\n",
      "oauthlib                      3.2.2\n",
      "opencv-python                 4.8.0.74\n",
      "openpyxl                      3.0.10\n",
      "opt-einsum                    3.3.0\n",
      "packaging                     23.0\n",
      "pandas                        1.5.3\n",
      "pandocfilters                 1.5.0\n",
      "panel                         1.1.0\n",
      "param                         1.13.0\n",
      "paramiko                      2.8.1\n",
      "parsel                        1.6.0\n",
      "parso                         0.8.3\n",
      "partd                         1.2.0\n",
      "pathlib                       1.0.1\n",
      "pathspec                      0.10.3\n",
      "patsy                         0.5.3\n",
      "pep8                          1.7.1\n",
      "pexpect                       4.8.0\n",
      "pickleshare                   0.7.5\n",
      "Pillow                        9.4.0\n",
      "pip                           23.1.2\n",
      "pkginfo                       1.9.6\n",
      "platformdirs                  3.0.0\n",
      "plotly                        5.9.0\n",
      "pluggy                        1.0.0\n",
      "ply                           3.11\n",
      "pooch                         1.4.0\n",
      "poyo                          0.5.0\n",
      "prometheus-client             0.14.1\n",
      "prompt-toolkit                3.0.38\n",
      "Protego                       0.1.16\n",
      "protobuf                      4.23.4\n",
      "psutil                        5.9.4\n",
      "ptyprocess                    0.7.0\n",
      "pure-eval                     0.2.2\n",
      "py-cpuinfo                    8.0.0\n",
      "pyarrow                       11.0.0\n",
      "pyasn1                        0.4.8\n",
      "pyasn1-modules                0.2.8\n",
      "pycodestyle                   2.10.0\n",
      "pycosat                       0.6.4\n",
      "pycparser                     2.21\n",
      "pyct                          0.5.0\n",
      "pycurl                        7.45.2\n",
      "PyDispatcher                  2.0.5\n",
      "pydocstyle                    6.3.0\n",
      "pyerfa                        2.0.0\n",
      "pyflakes                      3.0.1\n",
      "Pygments                      2.14.0\n",
      "PyJWT                         2.4.0\n",
      "pylint                        2.16.2\n",
      "pylint-venv                   2.3.0\n",
      "pyls-spyder                   0.4.0\n",
      "PyNaCl                        1.5.0\n",
      "pyodbc                        4.0.34\n",
      "pyOpenSSL                     23.0.0\n",
      "pyparsing                     3.0.9\n",
      "PyQt5                         5.15.7\n",
      "PyQt5-sip                     12.11.0\n",
      "PyQtWebEngine                 5.15.4\n",
      "pyrsistent                    0.18.0\n",
      "PySocks                       1.7.1\n",
      "pytest                        7.3.1\n",
      "python-dateutil               2.8.2\n",
      "python-json-logger            2.0.7\n",
      "python-lsp-black              1.2.1\n",
      "python-lsp-jsonrpc            1.0.0\n",
      "python-lsp-server             1.7.2\n",
      "python-slugify                5.0.2\n",
      "python-snappy                 0.6.1\n",
      "pytoolconfig                  1.2.5\n",
      "pytz                          2022.7\n",
      "pyviz-comms                   2.3.0\n",
      "PyWavelets                    1.4.1\n",
      "pywin32                       305\n",
      "pywin32-ctypes                0.2.0\n",
      "pywinpty                      2.0.10\n",
      "PyYAML                        6.0\n",
      "pyzmq                         25.0.0\n",
      "QDarkStyle                    3.0.2\n",
      "qstylizer                     0.2.2\n",
      "QtAwesome                     1.2.2\n",
      "qtconsole                     5.4.2\n",
      "QtPy                          2.2.0\n",
      "queuelib                      1.5.0\n",
      "regex                         2022.7.9\n",
      "requests                      2.29.0\n",
      "requests-file                 1.5.1\n",
      "requests-oauthlib             1.3.1\n",
      "requests-toolbelt             0.9.1\n",
      "rfc3339-validator             0.1.4\n",
      "rfc3986-validator             0.1.1\n",
      "rope                          1.7.0\n",
      "rsa                           4.9\n",
      "Rtree                         1.0.1\n",
      "ruamel.yaml                   0.17.21\n",
      "ruamel-yaml-conda             0.17.21\n",
      "s3fs                          2023.3.0\n",
      "s3transfer                    0.6.0\n",
      "sacremoses                    0.0.43\n",
      "scikit-image                  0.20.0\n",
      "scikit-learn                  1.2.2\n",
      "scikit-learn-intelex          20230426.121932\n",
      "scipy                         1.10.1\n",
      "Scrapy                        2.8.0\n",
      "seaborn                       0.12.2\n",
      "Send2Trash                    1.8.0\n",
      "service-identity              18.1.0\n",
      "setuptools                    67.8.0\n",
      "sip                           6.6.2\n",
      "six                           1.16.0\n",
      "sklearn                       0.0.post5\n",
      "smart-open                    5.2.1\n",
      "sniffio                       1.2.0\n",
      "snowballstemmer               2.2.0\n",
      "sortedcontainers              2.4.0\n",
      "soupsieve                     2.4\n",
      "Sphinx                        5.0.2\n",
      "sphinxcontrib-applehelp       1.0.2\n",
      "sphinxcontrib-devhelp         1.0.2\n",
      "sphinxcontrib-htmlhelp        2.0.0\n",
      "sphinxcontrib-jsmath          1.0.1\n",
      "sphinxcontrib-qthelp          1.0.3\n",
      "sphinxcontrib-serializinghtml 1.1.5\n",
      "spyder                        5.4.3\n",
      "spyder-kernels                2.4.3\n",
      "SQLAlchemy                    1.4.39\n",
      "stack-data                    0.6.2\n",
      "statsmodels                   0.13.5\n",
      "sympy                         1.11.1\n",
      "tables                        3.8.0\n",
      "tabulate                      0.8.10\n",
      "TBB                           0.2\n",
      "tblib                         1.7.0\n",
      "tenacity                      8.2.2\n",
      "tensorboard                   2.13.0\n",
      "tensorboard-data-server       0.7.1\n",
      "tensorflow                    2.13.0\n",
      "tensorflow-estimator          2.13.0\n",
      "tensorflow-intel              2.13.0\n",
      "tensorflow-io-gcs-filesystem  0.31.0\n",
      "termcolor                     2.3.0\n",
      "terminado                     0.17.1\n",
      "text-unidecode                1.3\n",
      "textdistance                  4.2.1\n",
      "threadpoolctl                 2.2.0\n",
      "three-merge                   0.1.1\n",
      "tifffile                      2021.7.2\n",
      "tinycss2                      1.2.1\n",
      "tldextract                    3.2.0\n",
      "toml                          0.10.2\n",
      "tomli                         2.0.1\n",
      "tomlkit                       0.11.1\n",
      "toolz                         0.12.0\n",
      "tornado                       6.2\n",
      "tqdm                          4.65.0\n",
      "traitlets                     5.9.0\n",
      "transformers                  2.1.1\n",
      "Twisted                       22.10.0\n",
      "twisted-iocpsupport           1.0.2\n",
      "typing_extensions             4.5.0\n",
      "uc-micro-py                   1.0.1\n",
      "ujson                         5.4.0\n",
      "Unidecode                     1.2.0\n",
      "urllib3                       1.26.16\n",
      "w3lib                         1.21.0\n",
      "watchdog                      2.1.6\n",
      "wcwidth                       0.2.6\n",
      "webencodings                  0.5.1\n",
      "websocket-client              0.58.0\n",
      "Werkzeug                      2.2.3\n",
      "whatthepatch                  1.0.2\n",
      "wheel                         0.38.4\n",
      "widgetsnbextension            4.0.5\n",
      "win-inet-pton                 1.1.0\n",
      "wrapt                         1.14.1\n",
      "xarray                        2022.11.0\n",
      "xlwings                       0.29.1\n",
      "xyzservices                   2022.9.0\n",
      "y-py                          0.5.9\n",
      "yapf                          0.31.0\n",
      "yarl                          1.8.1\n",
      "ypy-websocket                 0.8.2\n",
      "zict                          2.2.0\n",
      "zipp                          3.11.0\n",
      "zope.interface                5.4.0\n",
      "zstandard                     0.19.0\n"
     ]
    }
   ],
   "source": [
    "!pip list"
   ]
  },
  {
   "cell_type": "code",
   "execution_count": 6,
   "id": "98cf36ca",
   "metadata": {},
   "outputs": [
    {
     "name": "stdout",
     "output_type": "stream",
     "text": [
      "Requirement already satisfied: matplotlib in c:\\users\\keonics\\anaconda3\\lib\\site-packages (3.7.1)\n",
      "Requirement already satisfied: contourpy>=1.0.1 in c:\\users\\keonics\\anaconda3\\lib\\site-packages (from matplotlib) (1.0.5)\n",
      "Requirement already satisfied: cycler>=0.10 in c:\\users\\keonics\\anaconda3\\lib\\site-packages (from matplotlib) (0.11.0)\n",
      "Requirement already satisfied: fonttools>=4.22.0 in c:\\users\\keonics\\anaconda3\\lib\\site-packages (from matplotlib) (4.25.0)\n",
      "Requirement already satisfied: kiwisolver>=1.0.1 in c:\\users\\keonics\\anaconda3\\lib\\site-packages (from matplotlib) (1.4.4)\n",
      "Requirement already satisfied: numpy>=1.20 in c:\\users\\keonics\\anaconda3\\lib\\site-packages (from matplotlib) (1.24.3)\n",
      "Requirement already satisfied: packaging>=20.0 in c:\\users\\keonics\\appdata\\roaming\\python\\python311\\site-packages (from matplotlib) (23.0)\n",
      "Requirement already satisfied: pillow>=6.2.0 in c:\\users\\keonics\\anaconda3\\lib\\site-packages (from matplotlib) (9.4.0)\n",
      "Requirement already satisfied: pyparsing>=2.3.1 in c:\\users\\keonics\\anaconda3\\lib\\site-packages (from matplotlib) (3.0.9)\n",
      "Requirement already satisfied: python-dateutil>=2.7 in c:\\users\\keonics\\appdata\\roaming\\python\\python311\\site-packages (from matplotlib) (2.8.2)\n",
      "Requirement already satisfied: six>=1.5 in c:\\users\\keonics\\appdata\\roaming\\python\\python311\\site-packages (from python-dateutil>=2.7->matplotlib) (1.16.0)\n"
     ]
    }
   ],
   "source": [
    "!pip install matplotlib"
   ]
  },
  {
   "cell_type": "code",
   "execution_count": 1,
   "id": "841d431b",
   "metadata": {},
   "outputs": [
    {
     "name": "stdout",
     "output_type": "stream",
     "text": [
      "Collecting pyinstaller\n",
      "  Downloading pyinstaller-6.2.0-py3-none-win_amd64.whl (1.3 MB)\n",
      "                                              0.0/1.3 MB ? eta -:--:--\n",
      "     ---                                      0.1/1.3 MB 3.3 MB/s eta 0:00:01\n",
      "     -----------                              0.4/1.3 MB 4.6 MB/s eta 0:00:01\n",
      "     --------------------------               0.8/1.3 MB 6.0 MB/s eta 0:00:01\n",
      "     -------------------------------------    1.2/1.3 MB 6.3 MB/s eta 0:00:01\n",
      "     ---------------------------------------  1.3/1.3 MB 6.8 MB/s eta 0:00:01\n",
      "     ---------------------------------------- 1.3/1.3 MB 5.1 MB/s eta 0:00:00\n",
      "Requirement already satisfied: setuptools>=42.0.0 in c:\\users\\keonics\\anaconda3\\lib\\site-packages (from pyinstaller) (67.8.0)\n",
      "Collecting altgraph (from pyinstaller)\n",
      "  Downloading altgraph-0.17.4-py2.py3-none-any.whl (21 kB)\n",
      "Collecting pyinstaller-hooks-contrib>=2021.4 (from pyinstaller)\n",
      "  Downloading pyinstaller_hooks_contrib-2023.10-py2.py3-none-any.whl (288 kB)\n",
      "                                              0.0/288.4 kB ? eta -:--:--\n",
      "     ------------------------------------  286.7/288.4 kB 17.3 MB/s eta 0:00:01\n",
      "     -------------------------------------- 288.4/288.4 kB 5.9 MB/s eta 0:00:00\n",
      "Requirement already satisfied: packaging>=22.0 in c:\\users\\keonics\\appdata\\roaming\\python\\python311\\site-packages (from pyinstaller) (23.0)\n",
      "Collecting pefile>=2022.5.30 (from pyinstaller)\n",
      "  Using cached pefile-2023.2.7-py3-none-any.whl (71 kB)\n",
      "Collecting pywin32-ctypes>=0.2.1 (from pyinstaller)\n",
      "  Downloading pywin32_ctypes-0.2.2-py3-none-any.whl (30 kB)\n",
      "Installing collected packages: altgraph, pywin32-ctypes, pyinstaller-hooks-contrib, pefile, pyinstaller\n",
      "  Attempting uninstall: pywin32-ctypes\n",
      "    Found existing installation: pywin32-ctypes 0.2.0\n",
      "    Uninstalling pywin32-ctypes-0.2.0:\n",
      "      Successfully uninstalled pywin32-ctypes-0.2.0\n",
      "Successfully installed altgraph-0.17.4 pefile-2023.2.7 pyinstaller-6.2.0 pyinstaller-hooks-contrib-2023.10 pywin32-ctypes-0.2.2\n"
     ]
    },
    {
     "name": "stderr",
     "output_type": "stream",
     "text": [
      "ERROR: pip's dependency resolver does not currently take into account all the packages that are installed. This behaviour is the source of the following dependency conflicts.\n",
      "spyder 5.4.3 requires ipython!=8.10.0,!=8.8.0,!=8.9.0,<9.0.0,>=7.31.1, but you have ipython 8.10.0 which is incompatible.\n"
     ]
    }
   ],
   "source": [
    "!pip install pyinstaller\n"
   ]
  },
  {
   "cell_type": "code",
   "execution_count": null,
   "id": "2f114bec",
   "metadata": {},
   "outputs": [],
   "source": []
  }
 ],
 "metadata": {
  "kernelspec": {
   "display_name": "Python 3 (ipykernel)",
   "language": "python",
   "name": "python3"
  },
  "language_info": {
   "codemirror_mode": {
    "name": "ipython",
    "version": 3
   },
   "file_extension": ".py",
   "mimetype": "text/x-python",
   "name": "python",
   "nbconvert_exporter": "python",
   "pygments_lexer": "ipython3",
   "version": "3.11.3"
  }
 },
 "nbformat": 4,
 "nbformat_minor": 5
}
