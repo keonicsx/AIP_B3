{
 "cells": [
  {
   "cell_type": "markdown",
   "id": "5573a58b",
   "metadata": {
    "id": "5573a58b"
   },
   "source": [
    "# What is Jupyter  Notebook\n",
    "* The Jupyter Notebook is an open-source web application that allows data scientists to create and share documents that           integrate live code, equations, computational output, visualizations, and other multimedia resources,\n",
    "\n",
    "* Uses include data cleaning and transformation, numerical simulation, statistical modeling, data visualization, machine         learning, and much more.\n"
   ]
  },
  {
   "cell_type": "markdown",
   "id": "1c454286",
   "metadata": {
    "id": "1c454286"
   },
   "source": [
    "## Tutorial\n",
    "- Interactive\n",
    "- Results/outputs are stored so it is easy to review\n",
    "- Friendly for documentation\n",
    "- No limitation from performance \n",
    "- helpful shortcuts\n",
    "- Industry standard for all data science, ML, AI projects.\n",
    "\n",
    "<p> Extension of jupyter file is ipynb (i python notebook, previous name of Jupyter) </p>\n",
    "\n"
   ]
  },
  {
   "cell_type": "markdown",
   "id": "ec91a308",
   "metadata": {
    "id": "ec91a308"
   },
   "source": [
    "### mode \n",
    "* Green----> edit mode(Enter button)\n",
    "* blue-----> command mode(Esc button)\n"
   ]
  },
  {
   "cell_type": "markdown",
   "id": "e6babead",
   "metadata": {
    "id": "e6babead"
   },
   "source": [
    "# Short Cuts\n",
    "\n",
    "[shift] + [enter] : run a cell\n",
    "\n",
    "Command mode:\n",
    "a : insert cell above\n",
    "\n",
    "b : insert cell below\n",
    "\n",
    "dd : delete a cell\n",
    "\n",
    "z : undo a delete cell\n",
    "\n",
    "r : convert cell to raw cell\n",
    "\n",
    "m : convert cell to Markdown cell\n",
    "\n",
    "y : convert cell to code cell\n",
    "\n",
    "c: copy a cell\n",
    "\n",
    "v : paste a cell\n",
    "\n",
    "x : cut a cell\n",
    "\n",
    "o : toggle output\n",
    "\n",
    "# Edit Mode:\n",
    "\n",
    "Ctrl + C : copy a text\n",
    "\n",
    "Ctrl + V : paste\n",
    "\n",
    "Ctrl + X : cut\n",
    "\n",
    "Ctrl + Z : undo"
   ]
  },
  {
   "cell_type": "markdown",
   "id": "cd840a4f",
   "metadata": {
    "id": "cd840a4f"
   },
   "source": [
    "# Keywords"
   ]
  },
  {
   "cell_type": "raw",
   "id": "68afbcdd",
   "metadata": {
    "id": "62590721"
   },
   "source": [
    "* Keywords in python are reserved words in python and cant be used as identifiers."
   ]
  },
  {
   "cell_type": "code",
   "execution_count": null,
   "id": "0ab1d4b0",
   "metadata": {
    "id": "0ab1d4b0",
    "outputId": "c029da18-5567-4f40-fe03-446d2abacde4"
   },
   "outputs": [],
   "source": [
    "import keyword # built-in module\n",
    "print(keyword.kwlist)  # It will give all keywords of python"
   ]
  },
  {
   "cell_type": "code",
   "execution_count": null,
   "id": "7a9ef08d",
   "metadata": {
    "id": "7a9ef08d",
    "outputId": "6e8a509a-d3fc-4966-cce6-14de5f87b176"
   },
   "outputs": [],
   "source": [
    "len(keyword.kwlist) "
   ]
  },
  {
   "cell_type": "markdown",
   "id": "c15e70c8",
   "metadata": {
    "id": "c15e70c8"
   },
   "source": [
    "# Identifiers"
   ]
  },
  {
   "cell_type": "markdown",
   "id": "41911e15",
   "metadata": {
    "id": "41911e15"
   },
   "source": [
    "* An identifier is the name given to entities like functions,variables etc.\n",
    "* It helps in differentiating one entity from other."
   ]
  },
  {
   "cell_type": "code",
   "execution_count": null,
   "id": "66cb1403",
   "metadata": {
    "id": "66cb1403",
    "outputId": "599c8ae6-6a69-40e2-afc5-186c3b860f70"
   },
   "outputs": [],
   "source": [
    "pi = 3.142  # a is of type float\n",
    "rad = 4.0   # b is of type float\n",
    "area= pi * rad * rad\n",
    "area"
   ]
  },
  {
   "cell_type": "code",
   "execution_count": null,
   "id": "c100d47b",
   "metadata": {
    "id": "c100d47b",
    "outputId": "da4c6ae8-8de7-4155-e830-15290440fd6a"
   },
   "outputs": [],
   "source": [
    "va%123='abc' # Identifer cannot use special symbol "
   ]
  },
  {
   "cell_type": "code",
   "execution_count": null,
   "id": "34c4ddd8",
   "metadata": {},
   "outputs": [],
   "source": [
    "# user-defined name\n",
    "dc = 3\n",
    "VAR = 'hi'\n",
    "Var = 8\n",
    "v3 = 5\n",
    "v6h = 5\n",
    "va_1  = 34"
   ]
  },
  {
   "cell_type": "code",
   "execution_count": null,
   "id": "57ac31ff",
   "metadata": {
    "id": "57ac31ff"
   },
   "outputs": [],
   "source": [
    "import=123 # Keywords cannot be used as identifier"
   ]
  },
  {
   "cell_type": "code",
   "execution_count": null,
   "id": "2bba50bc",
   "metadata": {
    "id": "2bba50bc"
   },
   "outputs": [],
   "source": [
    "\"\"\"\n",
    "Correct way of defining an identifier\n",
    "(Identifiers can be a combination of letters in lowercase (a to z) or uppercase \n",
    "and only special chararcter allowed is _(underscore) )\"\"\"\n",
    "\n",
    "var = 1\n",
    "\n",
    "# var is entity called as variable which has been created and assigned with value of 1"
   ]
  },
  {
   "cell_type": "markdown",
   "id": "97b903b7",
   "metadata": {
    "id": "97b903b7"
   },
   "source": [
    "# Comments"
   ]
  },
  {
   "cell_type": "markdown",
   "id": "d915980a",
   "metadata": {
    "id": "d915980a"
   },
   "source": [
    "* Comments can be used to explain the code for more readabilty."
   ]
  },
  {
   "cell_type": "code",
   "execution_count": null,
   "id": "f546a1a3",
   "metadata": {},
   "outputs": [],
   "source": [
    "# Finding square of a number 5 \n",
    "a = 5**2\n",
    "# a will print square of 5\n",
    "a"
   ]
  },
  {
   "cell_type": "code",
   "execution_count": null,
   "id": "2f772d53",
   "metadata": {
    "id": "2f772d53"
   },
   "outputs": [],
   "source": [
    "# creating a variable \n",
    "# and assigning 10\n",
    "val1 = 10"
   ]
  },
  {
   "cell_type": "code",
   "execution_count": null,
   "id": "3c7db71d",
   "metadata": {},
   "outputs": [],
   "source": [
    "'''this\n",
    "is \n",
    "a \n",
    "comment'''\n",
    "\n",
    "val1"
   ]
  },
  {
   "cell_type": "code",
   "execution_count": null,
   "id": "dfc2dab8",
   "metadata": {},
   "outputs": [],
   "source": [
    "\"\"\"this is multiple \n",
    "line comment\"\"\"\n",
    "\n",
    "val1"
   ]
  },
  {
   "cell_type": "markdown",
   "id": "a76869bd",
   "metadata": {
    "id": "a76869bd"
   },
   "source": [
    "# Statements"
   ]
  },
  {
   "cell_type": "markdown",
   "id": "8bf438c4",
   "metadata": {
    "id": "8bf438c4"
   },
   "source": [
    "* Instructions that a Python interpreter can execute."
   ]
  },
  {
   "cell_type": "code",
   "execution_count": null,
   "id": "05aa8d2f",
   "metadata": {},
   "outputs": [],
   "source": [
    "x1=10\n",
    "y1=21"
   ]
  },
  {
   "cell_type": "code",
   "execution_count": null,
   "id": "9082120a",
   "metadata": {},
   "outputs": [],
   "source": [
    "ans=x1+y1"
   ]
  },
  {
   "cell_type": "code",
   "execution_count": null,
   "id": "ba95a4c0",
   "metadata": {},
   "outputs": [],
   "source": [
    "ans"
   ]
  },
  {
   "cell_type": "code",
   "execution_count": null,
   "id": "feb2f004",
   "metadata": {},
   "outputs": [],
   "source": [
    "a=1\n",
    "b=b+a\n",
    "print(b)"
   ]
  },
  {
   "cell_type": "code",
   "execution_count": null,
   "id": "49b580e9",
   "metadata": {
    "id": "49b580e9"
   },
   "outputs": [],
   "source": [
    "# Single line statement\n",
    "p2 = ['a' , 'b' , 'c' , 'd']\n"
   ]
  },
  {
   "cell_type": "code",
   "execution_count": null,
   "id": "0465af83",
   "metadata": {
    "colab": {
     "base_uri": "https://localhost:8080/"
    },
    "executionInfo": {
     "elapsed": 7,
     "status": "ok",
     "timestamp": 1652331793514,
     "user": {
      "displayName": "Rohan Ravindra Sohani",
      "userId": "06993368347103045844"
     },
     "user_tz": -330
    },
    "id": "0465af83",
    "outputId": "6ace23ed-38da-471e-db6a-b7f8fb32dfa2"
   },
   "outputs": [],
   "source": [
    "# Multiple line statement\n",
    "p1 = 20 + 30 + 40+ 50 + 70 + 80 + 45 +67 + 45 +56 +78+89+90+45+34+23+23\\\n",
    "     +34+21+32+54 + 34  +56 + 78 +45 +34+78 +90+34+23+23+56+50+67"
   ]
  },
  {
   "cell_type": "code",
   "execution_count": null,
   "id": "6bf3f8be",
   "metadata": {},
   "outputs": [],
   "source": [
    "p1"
   ]
  },
  {
   "cell_type": "markdown",
   "id": "a48922a0",
   "metadata": {
    "id": "a48922a0"
   },
   "source": [
    "# Variables"
   ]
  },
  {
   "cell_type": "markdown",
   "id": "33961071",
   "metadata": {
    "id": "33961071"
   },
   "source": [
    "*  A Python variable is a reserved memory location to store values.\n",
    "* A variable is created the moment you first assign a value to it.\n"
   ]
  },
  {
   "cell_type": "code",
   "execution_count": null,
   "id": "85427289",
   "metadata": {
    "id": "85427289"
   },
   "outputs": [],
   "source": [
    "#### variable creation\n",
    "### in python evertyhing is an object\n",
    "A = 78\n",
    "# print(\"Location of A variable is:\",id(A))\n",
    "# print(type(A))\n",
    "B = 67 "
   ]
  },
  {
   "cell_type": "code",
   "execution_count": null,
   "id": "3670495c",
   "metadata": {},
   "outputs": [],
   "source": [
    "A # calling of variable"
   ]
  },
  {
   "cell_type": "code",
   "execution_count": null,
   "id": "0593ad95",
   "metadata": {},
   "outputs": [],
   "source": [
    "B"
   ]
  },
  {
   "cell_type": "code",
   "execution_count": null,
   "id": "fcdbc88e",
   "metadata": {},
   "outputs": [],
   "source": [
    "A + B"
   ]
  },
  {
   "cell_type": "code",
   "execution_count": null,
   "id": "23a9d31b",
   "metadata": {},
   "outputs": [],
   "source": [
    "print(A)\n",
    "B"
   ]
  },
  {
   "cell_type": "code",
   "execution_count": null,
   "id": "02f20ab8",
   "metadata": {},
   "outputs": [],
   "source": [
    "print(A+B)"
   ]
  },
  {
   "cell_type": "code",
   "execution_count": null,
   "id": "fd3cbba9",
   "metadata": {},
   "outputs": [],
   "source": [
    "print(A) ## print the variable\n",
    "print(B)"
   ]
  },
  {
   "cell_type": "code",
   "execution_count": null,
   "id": "5fbea58f",
   "metadata": {},
   "outputs": [],
   "source": [
    "# Creating a variable in heap memory\n",
    "k=10"
   ]
  },
  {
   "cell_type": "code",
   "execution_count": null,
   "id": "60a05e6b",
   "metadata": {},
   "outputs": [],
   "source": [
    "k"
   ]
  },
  {
   "cell_type": "code",
   "execution_count": null,
   "id": "9c2fdbda",
   "metadata": {
    "id": "9c2fdbda"
   },
   "outputs": [],
   "source": [
    "'''\n",
    "id() function returns the “identity” of the object. \n",
    "The identity of an object - Is an integer\n",
    " - Guaranteed to be unique\n",
    " - Constant for this object during its lifetime. \n",
    "'''\n",
    "id(k)"
   ]
  },
  {
   "cell_type": "markdown",
   "id": "4dda3506",
   "metadata": {},
   "source": [
    "##### Code Block"
   ]
  },
  {
   "cell_type": "code",
   "execution_count": null,
   "id": "5afdb4f2",
   "metadata": {},
   "outputs": [],
   "source": [
    "def a():\n",
    "    if 3>2: # indentation , use Tab for indentation\n",
    "        print('True')\n",
    "a()\n",
    "\n"
   ]
  },
  {
   "cell_type": "code",
   "execution_count": null,
   "id": "0e41c1cc",
   "metadata": {},
   "outputs": [],
   "source": [
    "hello = 56 # hello -> variable name"
   ]
  },
  {
   "cell_type": "code",
   "execution_count": null,
   "id": "72f65955",
   "metadata": {},
   "outputs": [],
   "source": [
    "id(hello)"
   ]
  },
  {
   "cell_type": "code",
   "execution_count": null,
   "id": "0a7b928f",
   "metadata": {},
   "outputs": [],
   "source": [
    "hello = 50.5\n",
    "id(hello)"
   ]
  },
  {
   "cell_type": "code",
   "execution_count": null,
   "id": "c8f3cc35",
   "metadata": {},
   "outputs": [],
   "source": [
    "x=10\n",
    "print(x,id(x),type(x))\n",
    "\n",
    "x=\"Hello World\" # latest assignment\n",
    "print(x,id(x),type(x))\n",
    "\n",
    "x=10.5\n",
    "print(x,id(x),type(x))"
   ]
  },
  {
   "cell_type": "code",
   "execution_count": null,
   "id": "a64e3c42",
   "metadata": {},
   "outputs": [],
   "source": [
    "a = 'hello' # hello is value (data)\n",
    "___a=10\n",
    "___add=20\n",
    "___myname=\"Python\"\n",
    "\n",
    "kprime=10\n"
   ]
  },
  {
   "cell_type": "code",
   "execution_count": null,
   "id": "280025f1",
   "metadata": {},
   "outputs": [],
   "source": [
    "_ = 7\n",
    "id(_)  \n",
    "print(kprime)"
   ]
  },
  {
   "cell_type": "code",
   "execution_count": null,
   "id": "47a6eac0",
   "metadata": {
    "id": "dc5abf36"
   },
   "outputs": [],
   "source": [
    "p=20   \n",
    "q=20\n",
    "r=q"
   ]
  },
  {
   "cell_type": "code",
   "execution_count": null,
   "id": "68ad7900",
   "metadata": {},
   "outputs": [],
   "source": [
    "print(id(p))\n",
    "print(id(q))\n",
    "print(id(r))"
   ]
  },
  {
   "cell_type": "markdown",
   "id": "c4e3a2d2",
   "metadata": {
    "id": "c4e3a2d2"
   },
   "source": [
    "# Variable Assignment"
   ]
  },
  {
   "cell_type": "code",
   "execution_count": null,
   "id": "f741d376",
   "metadata": {
    "id": "f741d376",
    "scrolled": true
   },
   "outputs": [],
   "source": [
    "intvar = 48 # Integer variable\n",
    "floatvar = 2.57 # Float Variable\n",
    "strvar = \"Python Language\" # String variable\n",
    "\n",
    "print(intvar)\n",
    "print(floatvar)\n",
    "print(strvar)"
   ]
  },
  {
   "cell_type": "markdown",
   "id": "aff84426",
   "metadata": {
    "id": "aff84426"
   },
   "source": [
    "# Multiple Assignment"
   ]
  },
  {
   "cell_type": "code",
   "execution_count": null,
   "id": "d4683b2a",
   "metadata": {
    "id": "d4683b2a",
    "scrolled": true
   },
   "outputs": [],
   "source": [
    "intvar , floatvar , strvar = 10,2.57,\"Python Language\"  \n",
    "# Using commas to separate variables\n",
    "print('the value of intvar is:', intvar)\n",
    "print(floatvar)\n",
    "print(strvar)"
   ]
  },
  {
   "cell_type": "code",
   "execution_count": null,
   "id": "f486c066",
   "metadata": {
    "id": "f486c066"
   },
   "outputs": [],
   "source": [
    "print('the value of intvar :',intvar,'the value of floatvar:',floatvar, 'the value of strvar:',strvar)"
   ]
  },
  {
   "cell_type": "code",
   "execution_count": null,
   "id": "1644ff55",
   "metadata": {
    "id": "1644ff55",
    "scrolled": true
   },
   "outputs": [],
   "source": [
    "p1 = p2 = p3 = p4 = 44 \n",
    "# All variables pointing to same value\n",
    "print(p1,p2,p3,p4)\n",
    "print(id(p1),id(p4))"
   ]
  },
  {
   "cell_type": "code",
   "execution_count": null,
   "id": "c2e5a72e",
   "metadata": {},
   "outputs": [],
   "source": [
    "#   Add     \n",
    "# two numbers        using     \n",
    "# multiple assignment     and \n",
    "# print result\n",
    "\n",
    "# a & b initialized\n",
    "a,b=10,20\n",
    "\n",
    "# a and b added and sum is stored in result\n",
    "result=a+b\n",
    "\n",
    "# result is printed with variables involved in dynamically framing statement\n",
    "print('sum of',a,'and',b,'is',result)\n"
   ]
  },
  {
   "cell_type": "code",
   "execution_count": null,
   "id": "6016d0ca",
   "metadata": {},
   "outputs": [],
   "source": [
    "# Read two integer numbers using input() and multiply them\n",
    "# 1. get values from user store them in two seperate variables\n",
    "# 2. multiply two variables and store them in mul variable\n",
    "\n",
    "a=int(input(\"Enter value 1:\"))\n",
    "b=int(input(\"Enter value 2:\"))\n",
    "\n",
    "mul= a*b\n",
    "print('Multiplication of',a,' and',b,'is',mul)\n"
   ]
  },
  {
   "cell_type": "code",
   "execution_count": null,
   "id": "1d44de4b",
   "metadata": {},
   "outputs": [],
   "source": [
    "# Get users information like Name,Age,Email,PhoneNumber,Address,Profession\n",
    "# and print in a nice pragraph to look like a biography.\n",
    "\n",
    "# 1.  Get user input with input() Name,Age,Email,PhoneNumber,Address,Profession\n",
    "# 2.  \n",
    "name=input(\"Enter the name:\")\n",
    "age=input(\"Enter the age:\")\n",
    "email=input(\"Enter the email:\")\n",
    "\n",
    "print(\"My name is\",name,\" & i am\",age,\"years old, having professional email id\",email)\n"
   ]
  },
  {
   "cell_type": "code",
   "execution_count": null,
   "id": "3cad39e6",
   "metadata": {},
   "outputs": [],
   "source": [
    "year=int(input(\"Year of birth?\"))\n",
    "age=2023-year\n",
    "age"
   ]
  },
  {
   "cell_type": "code",
   "execution_count": null,
   "id": "2fc41abe",
   "metadata": {},
   "outputs": [],
   "source": [
    "a=4\n",
    "sq=a**0.5\n",
    "sq"
   ]
  },
  {
   "cell_type": "markdown",
   "id": "440eedd6",
   "metadata": {},
   "source": [
    "##### Area of triangle"
   ]
  },
  {
   "cell_type": "code",
   "execution_count": null,
   "id": "aa3338cb",
   "metadata": {},
   "outputs": [],
   "source": [
    "b=float(input(\"Enter base value:\"))\n",
    "h=float(input(\"Enter height value:\"))\n",
    "area=0.5*b*h\n",
    "print('the area of triangle with base',b,'and height',h,'is',area)"
   ]
  },
  {
   "cell_type": "markdown",
   "id": "2c4cfadc",
   "metadata": {},
   "source": [
    "##### Simple Interest"
   ]
  },
  {
   "cell_type": "code",
   "execution_count": null,
   "id": "3e104a5f",
   "metadata": {},
   "outputs": [],
   "source": [
    "# (P*T*R)/100\n",
    "p=int(input(\"Enter principle value:\"))\n",
    "t=float(input(\"Enter duration value:\"))\n",
    "r=float(input(\"Enter rate value:\"))\n",
    "SI=(p*t*r)/100\n",
    "Total_amount=p+SI\n",
    "print('Simple interest on Rs.',p,' for the duration of',t,'years with the interest rate of',r,'% is',SI,'& Total repayable amount is,',Total_amount)\n",
    "\n"
   ]
  },
  {
   "cell_type": "markdown",
   "id": "7b6a2f12",
   "metadata": {},
   "source": [
    "##### Compound Interest"
   ]
  },
  {
   "cell_type": "code",
   "execution_count": null,
   "id": "20d66b71",
   "metadata": {},
   "outputs": [],
   "source": [
    "# (P*T*R)/100\n",
    "# ((P*T*R)/100) for 1 year\n",
    "# p*(1+r/n)*(n*2)\n",
    "# p*(1+(r/100))**t)\n",
    "CI=100*(1+(10/100))**2\n",
    "CI\n",
    "# p=int(input(\"Enter principle value:\"))\n",
    "# t=float(input(\"Enter duration value:\"))\n",
    "# r=float(input(\"Enter rate value:\"))\n",
    "# SI=(p*t*r)/100\n",
    "# Total_amount=p+SI\n",
    "# print('Simple interest on Rs.',p,' for the duration of',t,'years with the interest rate of',r,'% is',SI,'& Total repayable amount is,',Total_amount)"
   ]
  },
  {
   "cell_type": "markdown",
   "id": "37f99688",
   "metadata": {
    "id": "37f99688"
   },
   "source": [
    "# Data Types"
   ]
  },
  {
   "cell_type": "markdown",
   "id": "5a9a8cd3",
   "metadata": {
    "id": "5a9a8cd3"
   },
   "source": [
    "## Numeric "
   ]
  },
  {
   "cell_type": "code",
   "execution_count": null,
   "id": "0805eac6",
   "metadata": {},
   "outputs": [],
   "source": [
    "# integer, float, boolean, complex, string"
   ]
  },
  {
   "cell_type": "code",
   "execution_count": null,
   "id": "3217d802",
   "metadata": {},
   "outputs": [],
   "source": [
    "# it allows you to interact with Python interpreter and operating system environment\n",
    "# provides functions for system-related functionality\n",
    "import sys"
   ]
  },
  {
   "cell_type": "code",
   "execution_count": null,
   "id": "7515e270",
   "metadata": {
    "id": "7515e270"
   },
   "outputs": [],
   "source": [
    "val1 = 10 # Integer data type\n",
    "print(val1)\n",
    "print(type(val1)) # type of object\n",
    "print(sys.getsizeof(val1)) # size of integer object in bytes \n",
    "print(val1, \" is Float?\", isinstance(val1, float)) # checks if an object belongs to a specific class"
   ]
  },
  {
   "cell_type": "code",
   "execution_count": null,
   "id": "aeddcd5c",
   "metadata": {},
   "outputs": [],
   "source": [
    "print(val1,\"is float?\",isinstance(val1,complex))"
   ]
  },
  {
   "cell_type": "code",
   "execution_count": null,
   "id": "7c846174",
   "metadata": {},
   "outputs": [],
   "source": [
    "print(isinstance(val1,complex))"
   ]
  },
  {
   "cell_type": "code",
   "execution_count": null,
   "id": "a9b1020f",
   "metadata": {},
   "outputs": [],
   "source": [
    "print(val1, \"is integer?\", isinstance(val1,int))"
   ]
  },
  {
   "cell_type": "code",
   "execution_count": null,
   "id": "2fa04823",
   "metadata": {
    "id": "2fa04823"
   },
   "outputs": [],
   "source": [
    "val2 = 92.78 # Float data type\n",
    "print(val2)\n",
    "print(type(val2)) # type of object\n",
    "print(sys.getsizeof(val2)) # size of float object in bytes\n",
    "print(val2, \" is float?\", isinstance(val2, float)) # Val2 is an instance of float"
   ]
  },
  {
   "cell_type": "code",
   "execution_count": null,
   "id": "61eda00f",
   "metadata": {
    "id": "61eda00f"
   },
   "outputs": [],
   "source": [
    "val3 = 25 + 10j # Complex data type"
   ]
  },
  {
   "cell_type": "code",
   "execution_count": null,
   "id": "bb0072c6",
   "metadata": {},
   "outputs": [],
   "source": [
    "val3"
   ]
  },
  {
   "cell_type": "code",
   "execution_count": null,
   "id": "47e04051",
   "metadata": {},
   "outputs": [],
   "source": [
    "type(val3)"
   ]
  },
  {
   "cell_type": "code",
   "execution_count": null,
   "id": "7d9fc356",
   "metadata": {},
   "outputs": [],
   "source": [
    "sys.getsizeof(val3)"
   ]
  },
  {
   "cell_type": "code",
   "execution_count": null,
   "id": "baf5fff9",
   "metadata": {},
   "outputs": [],
   "source": [
    "isinstance(val3,complex)"
   ]
  },
  {
   "cell_type": "code",
   "execution_count": null,
   "id": "a2f6d53a",
   "metadata": {},
   "outputs": [],
   "source": [
    "val1 = 'geetha'"
   ]
  },
  {
   "cell_type": "code",
   "execution_count": null,
   "id": "41ad3208",
   "metadata": {},
   "outputs": [],
   "source": [
    "val1 = 3+5j"
   ]
  },
  {
   "cell_type": "code",
   "execution_count": null,
   "id": "362f833a",
   "metadata": {},
   "outputs": [],
   "source": [
    "isinstance(val1,complex) "
   ]
  },
  {
   "cell_type": "markdown",
   "id": "ebae8cdb",
   "metadata": {},
   "source": [
    "# Boolean"
   ]
  },
  {
   "cell_type": "markdown",
   "id": "807bb3c7",
   "metadata": {
    "id": "807bb3c7"
   },
   "source": [
    "* Boolean data type can have only two possible values true or false."
   ]
  },
  {
   "cell_type": "code",
   "execution_count": null,
   "id": "052cf431",
   "metadata": {
    "executionInfo": {
     "elapsed": 406,
     "status": "ok",
     "timestamp": 1652354518753,
     "user": {
      "displayName": "Rohan Ravindra Sohani",
      "userId": "06993368347103045844"
     },
     "user_tz": -330
    },
    "id": "052cf431"
   },
   "outputs": [],
   "source": [
    "b1=True \n"
   ]
  },
  {
   "cell_type": "code",
   "execution_count": null,
   "id": "9cb97c89",
   "metadata": {
    "id": "9cb97c89"
   },
   "outputs": [],
   "source": [
    "b2=False"
   ]
  },
  {
   "cell_type": "code",
   "execution_count": null,
   "id": "0f453174",
   "metadata": {
    "colab": {
     "base_uri": "https://localhost:8080/"
    },
    "executionInfo": {
     "elapsed": 491,
     "status": "ok",
     "timestamp": 1652354522677,
     "user": {
      "displayName": "Rohan Ravindra Sohani",
      "userId": "06993368347103045844"
     },
     "user_tz": -330
    },
    "id": "0f453174",
    "outputId": "d08bf352-9ebe-452c-ecf2-ffc26ab877df"
   },
   "outputs": [],
   "source": [
    "type(b1)"
   ]
  },
  {
   "cell_type": "code",
   "execution_count": null,
   "id": "6211346a",
   "metadata": {
    "colab": {
     "base_uri": "https://localhost:8080/"
    },
    "executionInfo": {
     "elapsed": 516,
     "status": "ok",
     "timestamp": 1652354526023,
     "user": {
      "displayName": "Rohan Ravindra Sohani",
      "userId": "06993368347103045844"
     },
     "user_tz": -330
    },
    "id": "6211346a",
    "outputId": "4bb76670-6652-4e52-820e-528a690347c5"
   },
   "outputs": [],
   "source": [
    "isinstance(b2, int)"
   ]
  },
  {
   "cell_type": "code",
   "execution_count": null,
   "id": "12067e8d",
   "metadata": {},
   "outputs": [],
   "source": [
    "isinstance(b1, bool)"
   ]
  },
  {
   "cell_type": "code",
   "execution_count": null,
   "id": "6bc159e4",
   "metadata": {},
   "outputs": [],
   "source": [
    "isinstance(b1, str)"
   ]
  },
  {
   "cell_type": "code",
   "execution_count": null,
   "id": "01ee5e17",
   "metadata": {},
   "outputs": [],
   "source": [
    "a = 'True'\n",
    "type(a)"
   ]
  },
  {
   "cell_type": "markdown",
   "id": "b40a9db7",
   "metadata": {
    "id": "b40a9db7"
   },
   "source": [
    "## String"
   ]
  },
  {
   "cell_type": "markdown",
   "id": "6580adac",
   "metadata": {
    "id": "6580adac"
   },
   "source": [
    "###  String creation"
   ]
  },
  {
   "cell_type": "code",
   "execution_count": null,
   "id": "84590871",
   "metadata": {},
   "outputs": [],
   "source": [
    "a = '1'\n",
    "type(a)"
   ]
  },
  {
   "cell_type": "code",
   "execution_count": null,
   "id": "34012e79",
   "metadata": {
    "colab": {
     "base_uri": "https://localhost:8080/"
    },
    "executionInfo": {
     "elapsed": 359,
     "status": "ok",
     "timestamp": 1652332620618,
     "user": {
      "displayName": "Rohan Ravindra Sohani",
      "userId": "06993368347103045844"
     },
     "user_tz": -330
    },
    "id": "34012e79",
    "outputId": "7e13484a-5150-48b3-d7cd-b997a97ecdeb"
   },
   "outputs": [],
   "source": [
    "mystr = 'Hello World 1' # Define string using single quotes\n",
    "print(mystr)"
   ]
  },
  {
   "cell_type": "code",
   "execution_count": null,
   "id": "23573baf",
   "metadata": {},
   "outputs": [],
   "source": [
    "type(mystr)"
   ]
  },
  {
   "cell_type": "markdown",
   "id": "21e9ae35",
   "metadata": {
    "id": "21e9ae35"
   },
   "source": [
    "### String indexing"
   ]
  },
  {
   "cell_type": "code",
   "execution_count": null,
   "id": "cd4091f8",
   "metadata": {
    "id": "cd4091f8",
    "scrolled": true
   },
   "outputs": [],
   "source": [
    "str1='HELLO PYTHON'"
   ]
  },
  {
   "cell_type": "code",
   "execution_count": null,
   "id": "cb743274",
   "metadata": {},
   "outputs": [],
   "source": [
    "str1[4]\n",
    "# str1[6]"
   ]
  },
  {
   "cell_type": "code",
   "execution_count": null,
   "id": "bb12a213",
   "metadata": {
    "colab": {
     "base_uri": "https://localhost:8080/",
     "height": 35
    },
    "executionInfo": {
     "elapsed": 407,
     "status": "ok",
     "timestamp": 1652332630070,
     "user": {
      "displayName": "Rohan Ravindra Sohani",
      "userId": "06993368347103045844"
     },
     "user_tz": -330
    },
    "id": "bb12a213",
    "outputId": "8bfafe5a-93f1-4378-f0f0-e8f174066223"
   },
   "outputs": [],
   "source": [
    "str1[0] # First character in string \"str1\""
   ]
  },
  {
   "cell_type": "code",
   "execution_count": null,
   "id": "dfa2f056",
   "metadata": {},
   "outputs": [],
   "source": [
    "str1[-12]"
   ]
  },
  {
   "cell_type": "code",
   "execution_count": null,
   "id": "dead0eea",
   "metadata": {},
   "outputs": [],
   "source": [
    "str1[-7]"
   ]
  },
  {
   "cell_type": "code",
   "execution_count": null,
   "id": "f4bc7dfc",
   "metadata": {
    "colab": {
     "base_uri": "https://localhost:8080/"
    },
    "executionInfo": {
     "elapsed": 355,
     "status": "ok",
     "timestamp": 1652332644391,
     "user": {
      "displayName": "Rohan Ravindra Sohani",
      "userId": "06993368347103045844"
     },
     "user_tz": -330
    },
    "id": "f4bc7dfc",
    "outputId": "64326dc6-64eb-4071-b8ff-e5949afcc565"
   },
   "outputs": [],
   "source": [
    "len(str1)\n",
    "# Number of elements in given string."
   ]
  },
  {
   "cell_type": "code",
   "execution_count": null,
   "id": "8c1224c0",
   "metadata": {},
   "outputs": [],
   "source": [
    "len(str1)-1"
   ]
  },
  {
   "cell_type": "code",
   "execution_count": null,
   "id": "2e238e59",
   "metadata": {
    "colab": {
     "base_uri": "https://localhost:8080/",
     "height": 35
    },
    "executionInfo": {
     "elapsed": 357,
     "status": "ok",
     "timestamp": 1652332649258,
     "user": {
      "displayName": "Rohan Ravindra Sohani",
      "userId": "06993368347103045844"
     },
     "user_tz": -330
    },
    "id": "2e238e59",
    "outputId": "c19e7592-473f-4d63-e676-18d670d1390c"
   },
   "outputs": [],
   "source": [
    "str1[len(str1)-1] # Last character in string using len function # str1[11]"
   ]
  },
  {
   "cell_type": "code",
   "execution_count": null,
   "id": "686c1440",
   "metadata": {
    "id": "686c1440"
   },
   "outputs": [],
   "source": [
    "str1[-1] # Last character in string"
   ]
  },
  {
   "cell_type": "code",
   "execution_count": null,
   "id": "ae641b47",
   "metadata": {
    "id": "ae641b47"
   },
   "outputs": [],
   "source": [
    "str1[11]"
   ]
  },
  {
   "cell_type": "code",
   "execution_count": null,
   "id": "123531e7",
   "metadata": {
    "id": "123531e7"
   },
   "outputs": [],
   "source": [
    "str1[6] #Fetch 7th element of the string"
   ]
  },
  {
   "cell_type": "markdown",
   "id": "617e14ce",
   "metadata": {
    "id": "617e14ce"
   },
   "source": [
    "### String Slicing"
   ]
  },
  {
   "cell_type": "code",
   "execution_count": null,
   "id": "03b4199e",
   "metadata": {},
   "outputs": [],
   "source": [
    "str1='HELLO PYTHON'"
   ]
  },
  {
   "cell_type": "code",
   "execution_count": null,
   "id": "803eef0b",
   "metadata": {
    "colab": {
     "base_uri": "https://localhost:8080/",
     "height": 35
    },
    "executionInfo": {
     "elapsed": 379,
     "status": "ok",
     "timestamp": 1652332761355,
     "user": {
      "displayName": "Rohan Ravindra Sohani",
      "userId": "06993368347103045844"
     },
     "user_tz": -330
    },
    "id": "803eef0b",
    "outputId": "ef2e19e3-b96b-45eb-fca7-1d24d28d184c"
   },
   "outputs": [],
   "source": [
    "str1"
   ]
  },
  {
   "cell_type": "code",
   "execution_count": null,
   "id": "51e851cb",
   "metadata": {},
   "outputs": [],
   "source": [
    "str1[0:5] ## start:end str1[:5] "
   ]
  },
  {
   "cell_type": "code",
   "execution_count": null,
   "id": "983813fd",
   "metadata": {},
   "outputs": [],
   "source": [
    "str1[:5] # if no start index is given, by default it will start from the beginning"
   ]
  },
  {
   "cell_type": "code",
   "execution_count": null,
   "id": "254fc4fc",
   "metadata": {},
   "outputs": [],
   "source": [
    "str1[6:12]"
   ]
  },
  {
   "cell_type": "code",
   "execution_count": null,
   "id": "147a2848",
   "metadata": {},
   "outputs": [],
   "source": [
    "str1[6:] # if end index is not given, by default it goes till the end"
   ]
  },
  {
   "cell_type": "code",
   "execution_count": null,
   "id": "a111aef2",
   "metadata": {},
   "outputs": [],
   "source": [
    "str1[6:13:3]"
   ]
  },
  {
   "cell_type": "code",
   "execution_count": null,
   "id": "a6035de7",
   "metadata": {},
   "outputs": [],
   "source": [
    "a=[1,2,3,4,5,6,7,8,9]\n",
    "a[::2]"
   ]
  },
  {
   "cell_type": "code",
   "execution_count": null,
   "id": "4f0ac9e8",
   "metadata": {},
   "outputs": [],
   "source": [
    "str1[-11:-7]"
   ]
  },
  {
   "cell_type": "code",
   "execution_count": null,
   "id": "08e2453e",
   "metadata": {},
   "outputs": [],
   "source": [
    "str1[-1:-7:-1]"
   ]
  },
  {
   "cell_type": "code",
   "execution_count": null,
   "id": "8146ce76",
   "metadata": {
    "colab": {
     "base_uri": "https://localhost:8080/",
     "height": 35
    },
    "executionInfo": {
     "elapsed": 416,
     "status": "ok",
     "timestamp": 1652332809666,
     "user": {
      "displayName": "Rohan Ravindra Sohani",
      "userId": "06993368347103045844"
     },
     "user_tz": -330
    },
    "id": "8146ce76",
    "outputId": "9eb2515e-8627-496c-cbc9-d3b817dd2cc8"
   },
   "outputs": [],
   "source": [
    "str1[9:6:-1]"
   ]
  },
  {
   "cell_type": "code",
   "execution_count": null,
   "id": "cc8f2a96",
   "metadata": {},
   "outputs": [],
   "source": [
    "str1[-4:-11:-1]"
   ]
  },
  {
   "cell_type": "code",
   "execution_count": null,
   "id": "e025a122",
   "metadata": {},
   "outputs": [],
   "source": [
    "str1[:]"
   ]
  },
  {
   "cell_type": "code",
   "execution_count": null,
   "id": "12dc04ad",
   "metadata": {},
   "outputs": [],
   "source": [
    "str1"
   ]
  },
  {
   "cell_type": "code",
   "execution_count": null,
   "id": "23b33ead",
   "metadata": {},
   "outputs": [],
   "source": [
    "str1[3:]"
   ]
  },
  {
   "cell_type": "code",
   "execution_count": null,
   "id": "6cb11ead",
   "metadata": {},
   "outputs": [],
   "source": [
    "str1[9:1:-2]"
   ]
  },
  {
   "cell_type": "code",
   "execution_count": null,
   "id": "0882fb00",
   "metadata": {
    "executionInfo": {
     "elapsed": 362,
     "status": "ok",
     "timestamp": 1652332802433,
     "user": {
      "displayName": "Rohan Ravindra Sohani",
      "userId": "06993368347103045844"
     },
     "user_tz": -330
    },
    "id": "0882fb00"
   },
   "outputs": [],
   "source": [
    "str2='Data is new fuel'\n",
    "# Task:-Extract new and Data from above string"
   ]
  },
  {
   "cell_type": "code",
   "execution_count": null,
   "id": "c35c5eb9",
   "metadata": {},
   "outputs": [],
   "source": [
    "len(str2)"
   ]
  },
  {
   "cell_type": "code",
   "execution_count": null,
   "id": "c5f17a95",
   "metadata": {},
   "outputs": [],
   "source": [
    "print(str2[:4],str2[8:11])"
   ]
  },
  {
   "cell_type": "code",
   "execution_count": null,
   "id": "317cf4a7",
   "metadata": {},
   "outputs": [],
   "source": [
    "#new\n",
    "str2[8:11]"
   ]
  },
  {
   "cell_type": "code",
   "execution_count": null,
   "id": "856b34d0",
   "metadata": {},
   "outputs": [],
   "source": [
    "# data\n",
    "str2[:4]"
   ]
  },
  {
   "cell_type": "code",
   "execution_count": null,
   "id": "dc924fde",
   "metadata": {},
   "outputs": [],
   "source": [
    "# Task:Reverse 'Data' from above str2 [ 0     15], [-16 -15 -14 -13 -12......-1]\n",
    "str2[-12:-17:-1]"
   ]
  },
  {
   "cell_type": "code",
   "execution_count": null,
   "id": "4f19c41c",
   "metadata": {},
   "outputs": [],
   "source": [
    "# Task: Reverse 'new' from above str2\n",
    "print(str2)\n",
    "str2[-6:-9:-1]"
   ]
  },
  {
   "cell_type": "markdown",
   "id": "26ea1f22",
   "metadata": {
    "id": "26ea1f22"
   },
   "source": [
    "### Update and Delete string"
   ]
  },
  {
   "cell_type": "markdown",
   "id": "8be8dec6",
   "metadata": {
    "id": "8be8dec6"
   },
   "source": [
    "* Strings are immutable which means elements of a\n",
    "string cannot be changed once the they are assigned with\n",
    "any values\n"
   ]
  },
  {
   "cell_type": "code",
   "execution_count": null,
   "id": "b48e5be5",
   "metadata": {
    "colab": {
     "base_uri": "https://localhost:8080/",
     "height": 35
    },
    "executionInfo": {
     "elapsed": 375,
     "status": "ok",
     "timestamp": 1652333659162,
     "user": {
      "displayName": "Rohan Ravindra Sohani",
      "userId": "06993368347103045844"
     },
     "user_tz": -330
    },
    "id": "b48e5be5",
    "outputId": "f8f4a315-df4a-400f-bd1b-db504b7fa72c"
   },
   "outputs": [],
   "source": [
    "str1"
   ]
  },
  {
   "cell_type": "code",
   "execution_count": null,
   "id": "67aec6de",
   "metadata": {
    "id": "67aec6de"
   },
   "outputs": [],
   "source": [
    "str1[0:2]='HI'"
   ]
  },
  {
   "cell_type": "code",
   "execution_count": null,
   "id": "23c958e1",
   "metadata": {},
   "outputs": [],
   "source": [
    "str2 = str1.replace('HE','HI') \n",
    "# string.replace('character to replace','by what value \n",
    "#the character should be replaced')"
   ]
  },
  {
   "cell_type": "code",
   "execution_count": null,
   "id": "e6f8ed56",
   "metadata": {},
   "outputs": [],
   "source": [
    "str2"
   ]
  },
  {
   "cell_type": "code",
   "execution_count": null,
   "id": "0d36c853",
   "metadata": {},
   "outputs": [],
   "source": [
    "str2=str1.replace('','*')"
   ]
  },
  {
   "cell_type": "code",
   "execution_count": null,
   "id": "c1f32dda",
   "metadata": {},
   "outputs": [],
   "source": [
    "print(str2)"
   ]
  },
  {
   "cell_type": "code",
   "execution_count": null,
   "id": "14da5e50",
   "metadata": {
    "executionInfo": {
     "elapsed": 360,
     "status": "ok",
     "timestamp": 1652333713505,
     "user": {
      "displayName": "Rohan Ravindra Sohani",
      "userId": "06993368347103045844"
     },
     "user_tz": -330
    },
    "id": "14da5e50",
    "scrolled": true
   },
   "outputs": [],
   "source": [
    "del str1 # Delete a string"
   ]
  },
  {
   "cell_type": "code",
   "execution_count": null,
   "id": "1500df89",
   "metadata": {
    "id": "1500df89"
   },
   "outputs": [],
   "source": [
    "str1"
   ]
  },
  {
   "cell_type": "markdown",
   "id": "b5b59f30",
   "metadata": {
    "id": "b5b59f30"
   },
   "source": [
    "### String concatenation\n"
   ]
  },
  {
   "cell_type": "code",
   "execution_count": null,
   "id": "4c2cc25b",
   "metadata": {
    "executionInfo": {
     "elapsed": 392,
     "status": "ok",
     "timestamp": 1652333742007,
     "user": {
      "displayName": "Rohan Ravindra Sohani",
      "userId": "06993368347103045844"
     },
     "user_tz": -330
    },
    "id": "4c2cc25b"
   },
   "outputs": [],
   "source": [
    "#  String concatenation\n",
    "s1 = \"Data\" \n",
    "s2 = \"Science\"\n",
    "s3=s1 + s2"
   ]
  },
  {
   "cell_type": "code",
   "execution_count": null,
   "id": "8b12292c",
   "metadata": {},
   "outputs": [],
   "source": [
    "s3"
   ]
  },
  {
   "cell_type": "code",
   "execution_count": null,
   "id": "b9a1bc0e",
   "metadata": {
    "id": "b9a1bc0e"
   },
   "outputs": [],
   "source": [
    "#  String concatenation\n",
    "s1 = \"Data\"\n",
    "s2 = \"Science\"\n",
    "s3 = s1 +\" \"+ s2\n",
    "s3"
   ]
  },
  {
   "cell_type": "markdown",
   "id": "7b1f3379",
   "metadata": {
    "id": "7b1f3379"
   },
   "source": [
    "### String Membership"
   ]
  },
  {
   "cell_type": "code",
   "execution_count": null,
   "id": "86d2b79a",
   "metadata": {
    "executionInfo": {
     "elapsed": 4,
     "status": "ok",
     "timestamp": 1652334955015,
     "user": {
      "displayName": "Rohan Ravindra Sohani",
      "userId": "06993368347103045844"
     },
     "user_tz": -330
    },
    "id": "86d2b79a"
   },
   "outputs": [],
   "source": [
    "# String membership\n",
    "mystr1 = \"Hello Everyone\""
   ]
  },
  {
   "cell_type": "code",
   "execution_count": null,
   "id": "073089bb",
   "metadata": {
    "id": "073089bb"
   },
   "outputs": [],
   "source": [
    "'Hello' in mystr1 # Check whether \n",
    "#substring \"Hello\" is present in given string "
   ]
  },
  {
   "cell_type": "code",
   "execution_count": null,
   "id": "885fd1d9",
   "metadata": {},
   "outputs": [],
   "source": [
    "#Task: find numbers in a string by taking strings from user.\n",
    "str3=input(\"Enter string\")\n",
    "'2' in str3 \n",
    "\n"
   ]
  },
  {
   "cell_type": "markdown",
   "id": "8c3d4fc9",
   "metadata": {
    "id": "8c3d4fc9"
   },
   "source": [
    "### String Functions"
   ]
  },
  {
   "cell_type": "markdown",
   "id": "8ece4e99",
   "metadata": {
    "id": "8ece4e99"
   },
   "source": [
    "##### String Partioning"
   ]
  },
  {
   "cell_type": "code",
   "execution_count": null,
   "id": "0ba08747",
   "metadata": {
    "executionInfo": {
     "elapsed": 454,
     "status": "ok",
     "timestamp": 1652335083127,
     "user": {
      "displayName": "Rohan Ravindra Sohani",
      "userId": "06993368347103045844"
     },
     "user_tz": -330
    },
    "id": "0ba08747"
   },
   "outputs": [],
   "source": [
    "\"\"\"\n",
    "The partition() method searches for a specified string and splits the string into\n",
    " - The first element contains the part before the argument string.\n",
    " - The second element contains the argument string.\n",
    " - The third element contains the part after the argument string.\n",
    "\"\"\"\n",
    "\n",
    "str5 = \"Natural language processing with Python and R and Java\"\n",
    "L = str5.partition(\"and\") # returns tuple\n",
    "L"
   ]
  },
  {
   "cell_type": "code",
   "execution_count": null,
   "id": "be81f2fa",
   "metadata": {
    "id": "be81f2fa"
   },
   "outputs": [],
   "source": [
    "mystr2 = \" Hello Everyone \"\n",
    "mystr2"
   ]
  },
  {
   "cell_type": "code",
   "execution_count": null,
   "id": "3855fdc1",
   "metadata": {},
   "outputs": [],
   "source": [
    "# count\n",
    "mystr2.count('Hello') ## count the number of occurence of given substring in given string"
   ]
  },
  {
   "cell_type": "code",
   "execution_count": null,
   "id": "6e52d5b9",
   "metadata": {},
   "outputs": [],
   "source": [
    "mystr2"
   ]
  },
  {
   "cell_type": "code",
   "execution_count": null,
   "id": "e7a3b771",
   "metadata": {
    "id": "e7a3b771"
   },
   "outputs": [],
   "source": [
    "# strip\n",
    "mystr2.strip('one ')"
   ]
  },
  {
   "cell_type": "code",
   "execution_count": null,
   "id": "822cbd37",
   "metadata": {},
   "outputs": [],
   "source": [
    "mystr2"
   ]
  },
  {
   "cell_type": "code",
   "execution_count": null,
   "id": "adfd0c11",
   "metadata": {
    "id": "adfd0c11",
    "scrolled": true
   },
   "outputs": [],
   "source": [
    "mystr2.rstrip() # Removes all whitespaces at the end of the string"
   ]
  },
  {
   "cell_type": "code",
   "execution_count": null,
   "id": "ddba005e",
   "metadata": {
    "id": "ddba005e",
    "scrolled": true
   },
   "outputs": [],
   "source": [
    "mystr2.lstrip() # Removes all whitespaces at the begining of the string"
   ]
  },
  {
   "cell_type": "code",
   "execution_count": null,
   "id": "c747149b",
   "metadata": {
    "id": "c747149b"
   },
   "outputs": [],
   "source": [
    "mystr2"
   ]
  },
  {
   "cell_type": "code",
   "execution_count": null,
   "id": "b7afef19",
   "metadata": {
    "id": "b7afef19"
   },
   "outputs": [],
   "source": [
    "mystr2 = \"*********Hello Everyone***********All the Best**********\"\n",
    "mystr2"
   ]
  },
  {
   "cell_type": "code",
   "execution_count": null,
   "id": "dbb00304",
   "metadata": {
    "id": "dbb00304",
    "scrolled": true
   },
   "outputs": [],
   "source": [
    "mystr2.strip('*') # Removes all '*' characters from begining \n",
    "#& end of the string"
   ]
  },
  {
   "cell_type": "code",
   "execution_count": null,
   "id": "445c7f26",
   "metadata": {
    "id": "445c7f26"
   },
   "outputs": [],
   "source": [
    "mystr2.lstrip('*')"
   ]
  },
  {
   "cell_type": "code",
   "execution_count": null,
   "id": "00c4fb83",
   "metadata": {},
   "outputs": [],
   "source": [
    "mystr2.rstrip('*')"
   ]
  },
  {
   "cell_type": "code",
   "execution_count": null,
   "id": "af7c9b10",
   "metadata": {
    "id": "af7c9b10"
   },
   "outputs": [],
   "source": [
    "mystr2='HELLO PYTHON'"
   ]
  },
  {
   "cell_type": "code",
   "execution_count": null,
   "id": "9a08cfda",
   "metadata": {
    "id": "9a08cfda"
   },
   "outputs": [],
   "source": [
    "mystr2 = mystr2.lower()"
   ]
  },
  {
   "cell_type": "code",
   "execution_count": null,
   "id": "2128f00d",
   "metadata": {},
   "outputs": [],
   "source": [
    "mystr2"
   ]
  },
  {
   "cell_type": "code",
   "execution_count": null,
   "id": "c2a468df",
   "metadata": {},
   "outputs": [],
   "source": [
    "mystr5='hello python'"
   ]
  },
  {
   "cell_type": "code",
   "execution_count": null,
   "id": "340e2449",
   "metadata": {
    "id": "340e2449",
    "scrolled": true
   },
   "outputs": [],
   "source": [
    "mystr5.upper()"
   ]
  },
  {
   "cell_type": "code",
   "execution_count": null,
   "id": "96cfef42",
   "metadata": {},
   "outputs": [],
   "source": [
    "mystr5"
   ]
  },
  {
   "cell_type": "code",
   "execution_count": null,
   "id": "fad85656",
   "metadata": {
    "id": "fad85656"
   },
   "outputs": [],
   "source": [
    "mystr5.startswith(\"He\") \n",
    "# Return boolean value True if string starts with \"He\""
   ]
  },
  {
   "cell_type": "code",
   "execution_count": null,
   "id": "6305a0b1",
   "metadata": {
    "id": "6305a0b1"
   },
   "outputs": [],
   "source": [
    "mystr5.endswith(\"thon\") \n",
    "# Return boolean value 'True' if string ends with \"thon\""
   ]
  },
  {
   "cell_type": "code",
   "execution_count": null,
   "id": "f7d7c529",
   "metadata": {
    "id": "f7d7c529"
   },
   "outputs": [],
   "source": [
    "mystr4 = \"one two three four one two two three five five six seven six seven one oneone ten eight ten nine eleven ten ten nine\""
   ]
  },
  {
   "cell_type": "code",
   "execution_count": null,
   "id": "44834058",
   "metadata": {},
   "outputs": [],
   "source": [
    "mystr4"
   ]
  },
  {
   "cell_type": "code",
   "execution_count": null,
   "id": "fcb30b96",
   "metadata": {
    "id": "fcb30b96"
   },
   "outputs": [],
   "source": [
    "# split() - returns a list as output\n",
    "\n",
    "# \n",
    "print(mystr4.split()) \n",
    "# list1=mystr4.split()"
   ]
  },
  {
   "cell_type": "code",
   "execution_count": null,
   "id": "a8c2ae2d",
   "metadata": {
    "id": "a8c2ae2d"
   },
   "outputs": [],
   "source": [
    "print(mystr4.split())"
   ]
  },
  {
   "cell_type": "code",
   "execution_count": null,
   "id": "40d34336",
   "metadata": {},
   "outputs": [],
   "source": [
    "# list1 "
   ]
  },
  {
   "cell_type": "code",
   "execution_count": null,
   "id": "13d1075d",
   "metadata": {},
   "outputs": [],
   "source": [
    "mystr4"
   ]
  },
  {
   "cell_type": "code",
   "execution_count": null,
   "id": "515c8012",
   "metadata": {},
   "outputs": [],
   "source": [
    "a = 5\n",
    "b = 7\n",
    "Sum=a+b\n",
    "print(\"the value of a & b is \",a,b) "
   ]
  },
  {
   "cell_type": "code",
   "execution_count": null,
   "id": "280afab0",
   "metadata": {},
   "outputs": [],
   "source": [
    "print(\"the sum of a is {} & b is {} this is my sum {} \".format(a,b,Sum))"
   ]
  },
  {
   "cell_type": "code",
   "execution_count": null,
   "id": "ff8f5f98",
   "metadata": {
    "id": "ff8f5f98"
   },
   "outputs": [],
   "source": [
    "# Combining string & numbers using format method\n",
    "item1 = 40\n",
    "item2 = 55\n",
    "item3 = 77\n",
    "\"Cost of item1 ,item3 and item2 are {} , {} and {}\".format(item1,item3,item2)"
   ]
  },
  {
   "cell_type": "code",
   "execution_count": null,
   "id": "0362f463",
   "metadata": {
    "id": "0362f463"
   },
   "outputs": [],
   "source": [
    "a=5\n",
    "b=3\n",
    "c=9\n",
    "print('The value of a is {2} and the value of b is {1} value of c is {0}  '.format(a,b,c))"
   ]
  },
  {
   "cell_type": "markdown",
   "id": "ed364f92",
   "metadata": {
    "id": "ed364f92"
   },
   "source": [
    "# Typecasting"
   ]
  },
  {
   "cell_type": "markdown",
   "id": "1eee6a0d",
   "metadata": {
    "id": "1eee6a0d"
   },
   "source": [
    "* Type Casting is the method to convert the variable data type into a certain data \n",
    "type in order to the operation required to be performed by users.\n",
    "\n",
    "* There are 2 ways in which typecasting is performed.\n",
    "\n",
    "1) Autotypecasting\n",
    "\n",
    "\n",
    "2) Forced Typecasting"
   ]
  },
  {
   "cell_type": "markdown",
   "id": "202310c5",
   "metadata": {
    "id": "202310c5"
   },
   "source": [
    "## Auto Typecasting\n",
    "* The Python interpreter automatically converts one data type to another without any user involvement. "
   ]
  },
  {
   "cell_type": "code",
   "execution_count": null,
   "id": "85f98668",
   "metadata": {
    "id": "85f98668",
    "scrolled": true
   },
   "outputs": [],
   "source": [
    "4 + 5.67  # ==> 4.0+5.67\n",
    "\n",
    "##( background processing of the code) due to the  \n",
    "##higher hierarchy of float datatype"
   ]
  },
  {
   "cell_type": "code",
   "execution_count": null,
   "id": "5ae66f4a",
   "metadata": {
    "id": "5ae66f4a"
   },
   "outputs": [],
   "source": [
    "4 + 5.6 + False + True\n",
    "# 4.0 +5.6+0.0+1.0"
   ]
  },
  {
   "cell_type": "code",
   "execution_count": null,
   "id": "d2d1107a",
   "metadata": {
    "colab": {
     "base_uri": "https://localhost:8080/",
     "height": 166
    },
    "executionInfo": {
     "elapsed": 8,
     "status": "error",
     "timestamp": 1652354423989,
     "user": {
      "displayName": "Rohan Ravindra Sohani",
      "userId": "06993368347103045844"
     },
     "user_tz": -330
    },
    "id": "d2d1107a",
    "outputId": "d1145384-0b36-470d-c901-9c394cf2fb51"
   },
   "outputs": [],
   "source": [
    "4+3+'data'+6.7"
   ]
  },
  {
   "cell_type": "code",
   "execution_count": null,
   "id": "d0845254",
   "metadata": {},
   "outputs": [],
   "source": [
    "True+2.56+1 #1.0+2.56+1.0"
   ]
  },
  {
   "cell_type": "code",
   "execution_count": null,
   "id": "d272b730",
   "metadata": {
    "colab": {
     "base_uri": "https://localhost:8080/"
    },
    "executionInfo": {
     "elapsed": 423,
     "status": "ok",
     "timestamp": 1652354440364,
     "user": {
      "displayName": "Rohan Ravindra Sohani",
      "userId": "06993368347103045844"
     },
     "user_tz": -330
    },
    "id": "d272b730",
    "outputId": "6a36f544-a031-43b8-e587-1349b3430a80",
    "scrolled": true
   },
   "outputs": [],
   "source": [
    "True + 3 # 1+3"
   ]
  },
  {
   "cell_type": "markdown",
   "id": "86d08aae",
   "metadata": {
    "id": "86d08aae"
   },
   "source": [
    "## Forced Typecasting"
   ]
  },
  {
   "cell_type": "code",
   "execution_count": null,
   "id": "d42d6532",
   "metadata": {
    "id": "d42d6532"
   },
   "outputs": [],
   "source": [
    "a=9.7\n",
    "a"
   ]
  },
  {
   "cell_type": "code",
   "execution_count": null,
   "id": "5c4bd907",
   "metadata": {
    "id": "5c4bd907"
   },
   "outputs": [],
   "source": [
    "type(a)"
   ]
  },
  {
   "cell_type": "code",
   "execution_count": null,
   "id": "52c773ff",
   "metadata": {
    "id": "52c773ff"
   },
   "outputs": [],
   "source": [
    "b = int(a)\n",
    "b"
   ]
  },
  {
   "cell_type": "code",
   "execution_count": null,
   "id": "f2b2cbe2",
   "metadata": {},
   "outputs": [],
   "source": [
    "a = ''\n",
    "type(a)"
   ]
  },
  {
   "cell_type": "code",
   "execution_count": null,
   "id": "26d9fc15",
   "metadata": {},
   "outputs": [],
   "source": [
    "bool(a)"
   ]
  },
  {
   "cell_type": "code",
   "execution_count": null,
   "id": "ca96ea4c",
   "metadata": {},
   "outputs": [],
   "source": [
    "a = 7.9"
   ]
  },
  {
   "cell_type": "code",
   "execution_count": null,
   "id": "ccc29a7a",
   "metadata": {},
   "outputs": [],
   "source": [
    "b = 1\n",
    "bool(b)"
   ]
  },
  {
   "cell_type": "code",
   "execution_count": null,
   "id": "b91c3821",
   "metadata": {},
   "outputs": [],
   "source": [
    "str(a) # float(), str(), int(), bool(), complex()"
   ]
  },
  {
   "cell_type": "code",
   "execution_count": null,
   "id": "dc49132c",
   "metadata": {},
   "outputs": [],
   "source": [
    "a=5"
   ]
  },
  {
   "cell_type": "code",
   "execution_count": null,
   "id": "afe1b8fe",
   "metadata": {},
   "outputs": [],
   "source": [
    "float(a)"
   ]
  },
  {
   "cell_type": "code",
   "execution_count": null,
   "id": "5263d0e3",
   "metadata": {},
   "outputs": [],
   "source": [
    "bool(\"\")"
   ]
  },
  {
   "cell_type": "code",
   "execution_count": null,
   "id": "7481e126",
   "metadata": {},
   "outputs": [],
   "source": [
    "a"
   ]
  },
  {
   "cell_type": "code",
   "execution_count": null,
   "id": "0ba33ee8",
   "metadata": {
    "scrolled": true
   },
   "outputs": [],
   "source": [
    "str(a)"
   ]
  },
  {
   "cell_type": "code",
   "execution_count": null,
   "id": "2736ddcd",
   "metadata": {},
   "outputs": [],
   "source": [
    "complex(a)"
   ]
  },
  {
   "cell_type": "code",
   "execution_count": null,
   "id": "423ea644",
   "metadata": {},
   "outputs": [],
   "source": [
    "a=False"
   ]
  },
  {
   "cell_type": "code",
   "execution_count": null,
   "id": "d2f19935",
   "metadata": {},
   "outputs": [],
   "source": [
    "float(a)"
   ]
  },
  {
   "cell_type": "code",
   "execution_count": null,
   "id": "26b1d16e",
   "metadata": {},
   "outputs": [],
   "source": [
    "int(a)"
   ]
  },
  {
   "cell_type": "code",
   "execution_count": null,
   "id": "1a52f466",
   "metadata": {},
   "outputs": [],
   "source": [
    "str(a)"
   ]
  },
  {
   "cell_type": "code",
   "execution_count": null,
   "id": "2613aa7d",
   "metadata": {},
   "outputs": [],
   "source": [
    "a='qewrw'"
   ]
  },
  {
   "cell_type": "code",
   "execution_count": null,
   "id": "c3cbcdb2",
   "metadata": {},
   "outputs": [],
   "source": [
    "float(a)"
   ]
  },
  {
   "cell_type": "code",
   "execution_count": null,
   "id": "40f399e5",
   "metadata": {},
   "outputs": [],
   "source": [
    "int(a)"
   ]
  },
  {
   "cell_type": "code",
   "execution_count": null,
   "id": "b15b89bf",
   "metadata": {},
   "outputs": [],
   "source": [
    "# c=\"\"\n",
    "# print(len(c))\n",
    "bool(a)"
   ]
  },
  {
   "cell_type": "code",
   "execution_count": null,
   "id": "31946450",
   "metadata": {},
   "outputs": [],
   "source": [
    "a='2'"
   ]
  },
  {
   "cell_type": "code",
   "execution_count": null,
   "id": "952984a5",
   "metadata": {},
   "outputs": [],
   "source": [
    "type(a)"
   ]
  },
  {
   "cell_type": "code",
   "execution_count": null,
   "id": "da3d421c",
   "metadata": {},
   "outputs": [],
   "source": [
    "int(a)"
   ]
  },
  {
   "cell_type": "code",
   "execution_count": null,
   "id": "18953598",
   "metadata": {},
   "outputs": [],
   "source": [
    "float(a)"
   ]
  },
  {
   "cell_type": "code",
   "execution_count": null,
   "id": "1fee0875",
   "metadata": {},
   "outputs": [],
   "source": [
    "bool(a)"
   ]
  },
  {
   "cell_type": "code",
   "execution_count": null,
   "id": "f4e7c68a",
   "metadata": {
    "colab": {
     "base_uri": "https://localhost:8080/",
     "height": 166
    },
    "executionInfo": {
     "elapsed": 559,
     "status": "error",
     "timestamp": 1652334099577,
     "user": {
      "displayName": "Rohan Ravindra Sohani",
      "userId": "06993368347103045844"
     },
     "user_tz": -330
    },
    "id": "f4e7c68a",
    "outputId": "dead3237-e682-41f3-9d05-4e001cac5310"
   },
   "outputs": [],
   "source": [
    "int('data')"
   ]
  },
  {
   "cell_type": "code",
   "execution_count": null,
   "id": "bd684c6f",
   "metadata": {
    "id": "bd684c6f"
   },
   "outputs": [],
   "source": [
    "int('2')"
   ]
  },
  {
   "cell_type": "code",
   "execution_count": null,
   "id": "e93edd1a",
   "metadata": {},
   "outputs": [],
   "source": [
    "float('2')"
   ]
  },
  {
   "cell_type": "code",
   "execution_count": null,
   "id": "9e8361d5",
   "metadata": {
    "id": "9e8361d5"
   },
   "outputs": [],
   "source": [
    "int(True)"
   ]
  },
  {
   "cell_type": "code",
   "execution_count": null,
   "id": "75f03975",
   "metadata": {
    "id": "75f03975",
    "scrolled": true
   },
   "outputs": [],
   "source": [
    "int(False)"
   ]
  },
  {
   "cell_type": "code",
   "execution_count": null,
   "id": "3905f14c",
   "metadata": {},
   "outputs": [],
   "source": [
    "float(True)"
   ]
  },
  {
   "cell_type": "code",
   "execution_count": null,
   "id": "dc81f7e9",
   "metadata": {
    "id": "dc81f7e9",
    "scrolled": true
   },
   "outputs": [],
   "source": [
    "float(False)"
   ]
  },
  {
   "cell_type": "code",
   "execution_count": null,
   "id": "2c1e5c2c",
   "metadata": {
    "id": "2c1e5c2c"
   },
   "outputs": [],
   "source": [
    "float('abc')  # Convert the datatype to float"
   ]
  },
  {
   "cell_type": "code",
   "execution_count": null,
   "id": "395b4aa7",
   "metadata": {
    "id": "395b4aa7",
    "scrolled": true
   },
   "outputs": [],
   "source": [
    "bool(8.9)#converting float type into bool"
   ]
  },
  {
   "cell_type": "code",
   "execution_count": null,
   "id": "a48861ee",
   "metadata": {
    "id": "a48861ee",
    "scrolled": true
   },
   "outputs": [],
   "source": [
    "bool(0)"
   ]
  },
  {
   "cell_type": "code",
   "execution_count": null,
   "id": "00a8c882",
   "metadata": {
    "id": "00a8c882",
    "scrolled": true
   },
   "outputs": [],
   "source": [
    "bool(-1)"
   ]
  },
  {
   "cell_type": "code",
   "execution_count": null,
   "id": "a01a69b8",
   "metadata": {},
   "outputs": [],
   "source": []
  },
  {
   "cell_type": "code",
   "execution_count": null,
   "id": "85eff29b",
   "metadata": {
    "id": "85eff29b"
   },
   "outputs": [],
   "source": [
    "# Guess the output\n",
    "int(1.5)+4+bool(0) # --> 1+4+False --> 1+4+0"
   ]
  },
  {
   "cell_type": "code",
   "execution_count": null,
   "id": "d63dad07",
   "metadata": {},
   "outputs": [],
   "source": [
    "int(5.6)+float(6)+bool(23) # --> 5+6.0+True --> 5.0+6.0+1.0\n",
    "# 5+6.0+True\n",
    "# 5.0+6.0+1.0"
   ]
  },
  {
   "cell_type": "code",
   "execution_count": null,
   "id": "06aee519",
   "metadata": {},
   "outputs": [],
   "source": [
    "int(6.5)+1.2+int(5.5)+ bool(0) # --> 6+1.2+5+False --> 6.0+1.2+5.0+0.0\n",
    "# 6+1.2+5+False\n",
    "# 6.0+1.2+5.0+0.0"
   ]
  },
  {
   "cell_type": "code",
   "execution_count": null,
   "id": "a8c93b79",
   "metadata": {
    "id": "a8c93b79"
   },
   "outputs": [],
   "source": [
    "str(5)"
   ]
  },
  {
   "cell_type": "code",
   "execution_count": null,
   "id": "62476512",
   "metadata": {
    "id": "62476512"
   },
   "outputs": [],
   "source": [
    "str(9.0)"
   ]
  },
  {
   "cell_type": "code",
   "execution_count": null,
   "id": "434e87de",
   "metadata": {
    "id": "434e87de"
   },
   "outputs": [],
   "source": [
    "str(True)"
   ]
  },
  {
   "cell_type": "code",
   "execution_count": null,
   "id": "25110c49",
   "metadata": {},
   "outputs": [],
   "source": [
    "str(False)"
   ]
  },
  {
   "cell_type": "code",
   "execution_count": 1,
   "id": "83bdcfcc",
   "metadata": {},
   "outputs": [
    {
     "name": "stdout",
     "output_type": "stream",
     "text": [
      "Enter a stringHello Python\n",
      "HELLO-PYTHON\n"
     ]
    },
    {
     "data": {
      "text/plain": [
       "12"
      ]
     },
     "execution_count": 1,
     "metadata": {},
     "output_type": "execute_result"
    }
   ],
   "source": [
    "# Task: Recieve String Input from user, make it as Upper case, \n",
    "#       add -(minus) wherever there are spaces in string input and\n",
    "#       print the string length. \n",
    "\n",
    "# Task: Recieve String Input from user, make it as Upper case, \n",
    "#       add -(minus) wherever there are spaces in string input and\n",
    "#       print the string length. \n",
    "\n",
    "# 1. take user inputs\n",
    "a=str(input(\"Enter a string\"))\n",
    "\n",
    "#2. convert into upper()\n",
    "a=a.upper()\n",
    "\n",
    "#3. replace space with minus -\n",
    "a=a.replace(' ','-')\n",
    "\n",
    "#4. prtint ans\n",
    "print(a)\n",
    "\n",
    "#5. print length\n",
    "len(a)"
   ]
  },
  {
   "cell_type": "code",
   "execution_count": 6,
   "id": "3f6f5cf7",
   "metadata": {},
   "outputs": [
    {
     "name": "stdout",
     "output_type": "stream",
     "text": [
      "Enter first number:-1\n",
      "Enter second number:1.0\n",
      "0.0\n",
      "<class 'float'>\n"
     ]
    },
    {
     "data": {
      "text/plain": [
       "False"
      ]
     },
     "execution_count": 6,
     "metadata": {},
     "output_type": "execute_result"
    }
   ],
   "source": [
    "#Task:  Read two numbers from user, one is integer and another float,\n",
    "#      add them and find the datatype and also convert them into boolean type.\n",
    "\n",
    "#1. Get 2 number inputs 1 is int 2nd is float\n",
    "a = int(input('Enter first number:')) # string\n",
    "b = float(input('Enter second number:'))\n",
    "\n",
    "#2. compute sum\n",
    "c= a+b\n",
    "print(c)\n",
    "\n",
    "#3.finding type\n",
    "print(type(c))\n",
    "\n",
    "#4. convert into bool\n",
    "bool(c)\n"
   ]
  },
  {
   "cell_type": "code",
   "execution_count": 5,
   "id": "752b1ab1",
   "metadata": {},
   "outputs": [
    {
     "name": "stdout",
     "output_type": "stream",
     "text": [
      "<class 'float'>\n"
     ]
    },
    {
     "data": {
      "text/plain": [
       "False"
      ]
     },
     "execution_count": 5,
     "metadata": {},
     "output_type": "execute_result"
    }
   ],
   "source": []
  },
  {
   "cell_type": "code",
   "execution_count": null,
   "id": "f2a7117f",
   "metadata": {},
   "outputs": [],
   "source": []
  }
 ],
 "metadata": {
  "colab": {
   "name": "Python Essential 1.ipynb",
   "provenance": []
  },
  "kernelspec": {
   "display_name": "Python 3 (ipykernel)",
   "language": "python",
   "name": "python3"
  },
  "language_info": {
   "codemirror_mode": {
    "name": "ipython",
    "version": 3
   },
   "file_extension": ".py",
   "mimetype": "text/x-python",
   "name": "python",
   "nbconvert_exporter": "python",
   "pygments_lexer": "ipython3",
   "version": "3.11.3"
  }
 },
 "nbformat": 4,
 "nbformat_minor": 5
}
